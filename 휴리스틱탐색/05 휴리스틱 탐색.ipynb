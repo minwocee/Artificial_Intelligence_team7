{
 "cells": [
  {
   "cell_type": "markdown",
   "metadata": {},
   "source": [
    "휴리스틱 탐색 알로리즘을 이해하기 위한 자료. 여기 제공하는 코드는 GitHub aima-python의 코드를 기반으로 일부 수정한 것임."
   ]
  },
  {
   "cell_type": "markdown",
   "metadata": {},
   "source": [
    "# 탐색을 통한 문제 해결 기반 구조\n",
    "기반 구조들은 매번 재정의할 필요가 없으므로, 이들을 search_common.py에 옮겨 저장해뒀음. 앞으로는 이 모듈을 import해서 사용하면 됨."
   ]
  },
  {
   "cell_type": "code",
   "execution_count": null,
   "metadata": {},
   "outputs": [],
   "source": [
    "# 탐색을 통한 문제 해결을 위해 필요한 기반 구조 import\n",
    "from search_common import *"
   ]
  },
  {
   "cell_type": "markdown",
   "metadata": {},
   "source": [
    "# 휴리스틱 탐색 알고리즘 구현"
   ]
  },
  {
   "cell_type": "markdown",
   "metadata": {},
   "source": [
    "## 최고 우선 탐색(best-first search)"
   ]
  },
  {
   "cell_type": "code",
   "execution_count": null,
   "metadata": {},
   "outputs": [],
   "source": [
    "def best_first_search(problem, f):\n",
    "    \"\"\"최고 우선 탐색: 평가함수 f(n)값이 가장 낮은 노드 n부터 탐색.\n",
    "    어떤 평가함수를 사용할 것인지를 f에 명시해주어야 함.\n",
    "    어떤 노드에서부터 목표까지의 비용 추정치(휴리스틱)로 지정해주면,\n",
    "    결국 이 탐색은 탐욕적 최고 우선 탐색이 됨.\"\"\"\n",
    "    \n",
    "    node = Node(problem.initial)\n",
    "    frontier = PriorityQueue([node], key=f)\n",
    "    reached = {problem.initial: node}\n",
    "    while frontier:\n",
    "        node = frontier.pop()\n",
    "        if problem.is_goal(node.state):\n",
    "            return node\n",
    "        for child in expand(problem, node):\n",
    "            s = child.state\n",
    "            if s not in reached or child.path_cost < reached[s].path_cost:\n",
    "                reached[s] = child\n",
    "                frontier.add(child)\n",
    "    return failure\n",
    "\n",
    "\n",
    "def best_first_tree_search(problem, f):\n",
    "    \"\"\"도달 상태 테이블(reached) 없이 탐색을 수행하는 최고 우선 탐색 버전\"\"\"\n",
    "    frontier = PriorityQueue([Node(problem.initial)], key=f)\n",
    "    while frontier:\n",
    "        node = frontier.pop()\n",
    "        if problem.is_goal(node.state):\n",
    "            return node\n",
    "        for child in expand(problem, node):\n",
    "            if not is_cycle(child):\n",
    "                frontier.add(child)\n",
    "    return failure\n",
    "\n",
    "\n",
    "def is_cycle(node, k=30):\n",
    "    \"node가 길이 k이하인 싸이클을 형성하는가?\"\n",
    "    def find_cycle(ancestor, k):\n",
    "        return (ancestor is not None and k > 0 and\n",
    "                (ancestor.state == node.state or find_cycle(ancestor.parent, k - 1)))\n",
    "    return find_cycle(node.parent, k)\n",
    "\n",
    "\n",
    "def g(n): return n.path_cost"
   ]
  },
  {
   "cell_type": "markdown",
   "metadata": {},
   "source": [
    "## 탐욕적 최고 우선 탐색"
   ]
  },
  {
   "cell_type": "code",
   "execution_count": null,
   "metadata": {},
   "outputs": [],
   "source": [
    "def greedy_bfs(problem, h=None):\n",
    "    \"\"\"h(n)이 가장 낮은 노드부터 탐색\"\"\"\n",
    "    h = h or problem.h\n",
    "    return best_first_search(problem, f=h)"
   ]
  },
  {
   "cell_type": "markdown",
   "metadata": {},
   "source": [
    "## 균일 비용 탐색(uniform-cost search)"
   ]
  },
  {
   "cell_type": "code",
   "execution_count": null,
   "metadata": {},
   "outputs": [],
   "source": [
    "def uniform_cost_search(problem):\n",
    "    \"\"\"경로 비용(g)이 가장 낮은 노드부터 탐색\"\"\"\n",
    "    return best_first_search(problem, f=g)"
   ]
  },
  {
   "cell_type": "markdown",
   "metadata": {},
   "source": [
    "## A* 탐색"
   ]
  },
  {
   "cell_type": "code",
   "execution_count": null,
   "metadata": {},
   "outputs": [],
   "source": [
    "def astar_search(problem, h=None):\n",
    "    \"\"\"f(n) = g(n)+h(n)이 가장 낮은 노드 n부터 탐색.\n",
    "    휴리스틱 함수를 h로 넘겨 주지 않으면 problem에 정의된 기본 h 함수가 사용됨.\"\"\"\n",
    "    h = h or problem.h\n",
    "    return best_first_search(problem, f=lambda n: g(n) + h(n))\n",
    "\n",
    "\n",
    "def astar_tree_search(problem, h=None):\n",
    "    \"\"\"도달 상태 테이블(reached) 없이 탐색을 수행하는 버전\"\"\"\n",
    "    h = h or problem.h\n",
    "    return best_first_tree_search(problem, f=lambda n: g(n) + h(n))"
   ]
  },
  {
   "cell_type": "markdown",
   "metadata": {},
   "source": [
    "## 가중치 A* 탐색"
   ]
  },
  {
   "cell_type": "code",
   "execution_count": null,
   "metadata": {},
   "outputs": [],
   "source": [
    "def weighted_astar_search(problem, h=None, weight=1.4):\n",
    "    \"\"\"f(n) = g(n) + weight * h(n)에 따라 f값이 가장 낮은 노드부터 탐색\"\"\"\n",
    "    h = h or problem.h\n",
    "    return best_first_search(problem, f=lambda n: g(n) + weight * h(n))"
   ]
  },
  {
   "cell_type": "markdown",
   "metadata": {},
   "source": [
    "## 너비/깊이 우선 탐색 재정의\n",
    "최고 우선 탐색을 사용하여 너비/깊이 우선 탐색도 구현할 수 있음. 평가 함수 f를 깊이에 따라 정의하면 됨."
   ]
  },
  {
   "cell_type": "code",
   "execution_count": null,
   "metadata": {},
   "outputs": [],
   "source": [
    "def breadth_first_bfs(problem):\n",
    "    \"\"\"f(n)=노드n의 깊이로 정의하여 best-first search 수행\"\"\"\n",
    "    return best_first_search(problem, f=len)\n",
    "\n",
    "\n",
    "def depth_first_bfs(problem):\n",
    "    \"\"\"f(n)=-(노드n의 깊이)로 정의하여 best-first search 수행\"\"\"\n",
    "\n",
    "    return best_first_search(problem, f=lambda n: -len(n))"
   ]
  },
  {
   "cell_type": "markdown",
   "metadata": {},
   "source": [
    "# 문제 해결: 루마니아 여행"
   ]
  },
  {
   "cell_type": "markdown",
   "metadata": {},
   "source": [
    "## 문제 정의 (지난 수업 내용)"
   ]
  },
  {
   "cell_type": "code",
   "execution_count": null,
   "metadata": {},
   "outputs": [],
   "source": [
    "class Map:\n",
    "    \"\"\"2차원 지도를 표현하는 그래프.\n",
    "    Map(links, locations) 형태로 생성.\n",
    "    - links: [(v1, v2)...] 또는 {(v1, v2): distance...} dict 구조 가능\n",
    "    - locations: {v1: (x, y)} 형식으로 각 노드의 위치(좌표) 설정 가능\n",
    "    - directed=False이면, 양방향 링크 추가. 즉, (v1, v2) 링크에 대해 (v2, v1) 링크 추가\"\"\"\n",
    "\n",
    "    def __init__(self, links, locations=None, directed=False):\n",
    "        if not hasattr(links, 'items'):\n",
    "            links = {link: 1 for link in links}  # 거리 기본값을 1로 설정\n",
    "        if not directed:\n",
    "            for (v1, v2) in list(links):\n",
    "                links[v2, v1] = links[v1, v2]\n",
    "        self.distances = links\n",
    "        self.neighbors = multimap(links)  # 인접 리스트\n",
    "        self.locations = locations or defaultdict(lambda: (0, 0))\n",
    "\n",
    "        \n",
    "def multimap(pairs):\n",
    "    \"\"\"(key, val) 쌍들이 주어지면, {key: [val,...]} 형태의 dict 생성하여 리턴.\"\"\"\n",
    "    result = defaultdict(list)\n",
    "    for key, val in pairs:\n",
    "        result[key].append(val)\n",
    "    return result"
   ]
  },
  {
   "cell_type": "code",
   "execution_count": null,
   "metadata": {},
   "outputs": [],
   "source": [
    "class RouteProblem(Problem):\n",
    "    \"\"\"지도(Map) 상의 위치 간의 이동 경로를 알아 내는 문제.\n",
    "    RouteProblem(초기상태, 종료상태, map=Map(...)) 형식으로 문제 생성.\n",
    "    상태: Map 그래프의 노드들(예: 'A' - 위치 이름이 'A'),\n",
    "    행동: 목적지 상태들(예: 'A' - 위치 'A'로 이동하는 행동)\"\"\"\n",
    "    \n",
    "    def actions(self, state): \n",
    "        \"\"\"state에 인접한 장소들\"\"\"\n",
    "        return self.map.neighbors[state]\n",
    "    \n",
    "    def result(self, state, action):\n",
    "        \"\"\"지도 상에서 가능하다면, action 위치로 이동.\n",
    "        불가능하다면, 위치(상태) 변화 없음. 즉, 위치(상태)는 그대로 state\"\"\"\n",
    "        return action if action in self.map.neighbors[state] else state\n",
    "    \n",
    "    def action_cost(self, s, action, s1):\n",
    "        \"\"\"s에서 s1로 이동하는 비용: 거리\"\"\"\n",
    "        return self.map.distances[s, s1]\n",
    "    \n",
    "    def h(self, node):\n",
    "        \"node의 상태와 목표 상태 사이의 직선 거리\"\n",
    "        locs = self.map.locations\n",
    "        return straight_line_distance(locs[node.state], locs[self.goal])\n",
    "    \n",
    "    \n",
    "def straight_line_distance(A, B):\n",
    "    \"두 점 사이의 직선 거리\"\n",
    "    return sum(abs(a - b)**2 for (a, b) in zip(A, B)) ** 0.5"
   ]
  },
  {
   "cell_type": "code",
   "execution_count": null,
   "metadata": {},
   "outputs": [],
   "source": [
    "# 루마니아 지도 정의\n",
    "romania = Map(\n",
    "    {('O', 'Z'):  71, ('O', 'S'): 151, ('A', 'Z'): 75, ('A', 'S'): 140, ('A', 'T'): 118, \n",
    "     ('L', 'T'): 111, ('L', 'M'):  70, ('D', 'M'): 75, ('C', 'D'): 120, ('C', 'R'): 146, \n",
    "     ('C', 'P'): 138, ('R', 'S'):  80, ('F', 'S'): 99, ('B', 'F'): 211, ('B', 'P'): 101, \n",
    "     ('B', 'G'):  90, ('B', 'U'):  85, ('H', 'U'): 98, ('E', 'H'):  86, ('U', 'V'): 142, \n",
    "     ('I', 'V'):  92, ('I', 'N'):  87, ('P', 'R'): 97},\n",
    "    {'A': ( 76, 497), 'B': (400, 327), 'C': (246, 285), 'D': (160, 296), 'E': (558, 294), \n",
    "     'F': (285, 460), 'G': (368, 257), 'H': (548, 355), 'I': (488, 535), 'L': (162, 379),\n",
    "     'M': (160, 343), 'N': (407, 561), 'O': (117, 580), 'P': (311, 372), 'R': (227, 412),\n",
    "     'S': (187, 463), 'T': ( 83, 414), 'U': (471, 363), 'V': (535, 473), 'Z': (92, 539)})"
   ]
  },
  {
   "cell_type": "code",
   "execution_count": null,
   "metadata": {},
   "outputs": [],
   "source": [
    "# 루마니아 여행 문제 정의\n",
    "r0 = RouteProblem('A', 'A', map=romania)\n",
    "r1 = RouteProblem('A', 'B', map=romania)  # 초기상태: A, 목표상태: B\n",
    "r2 = RouteProblem('N', 'L', map=romania)\n",
    "r3 = RouteProblem('E', 'T', map=romania)\n",
    "r4 = RouteProblem('O', 'M', map=romania)"
   ]
  },
  {
   "cell_type": "markdown",
   "metadata": {},
   "source": [
    "## A* 탐색을 이용한 루마니아 여행 문제 해결"
   ]
  },
  {
   "cell_type": "code",
   "execution_count": null,
   "metadata": {},
   "outputs": [],
   "source": [
    "path_states(greedy_bfs(r1))"
   ]
  },
  {
   "cell_type": "code",
   "execution_count": null,
   "metadata": {},
   "outputs": [],
   "source": [
    "path_states(astar_search(r1))"
   ]
  },
  {
   "cell_type": "code",
   "execution_count": null,
   "metadata": {},
   "outputs": [],
   "source": [
    "path_states(weighted_astar_search(r1))"
   ]
  },
  {
   "cell_type": "code",
   "execution_count": null,
   "metadata": {
    "scrolled": true
   },
   "outputs": [],
   "source": [
    "for problem in [r0, r1, r2, r3, r4]:\n",
    "    print(path_states(astar_search(problem)))"
   ]
  },
  {
   "cell_type": "markdown",
   "metadata": {},
   "source": [
    "# 문제 해결: 8-퍼즐"
   ]
  },
  {
   "cell_type": "markdown",
   "metadata": {},
   "source": [
    "## 문제 정의"
   ]
  },
  {
   "cell_type": "markdown",
   "metadata": {},
   "source": [
    "3x3 보드 판에서 숫자 타일을 빈 공간으로 움직여 목표 상태의 숫자 판 배열로 만드는 게임.\n",
    "예: (0은 빈 공간을 의미함)\n",
    "\n",
    "          초기 상태                           목표 상태\n",
    "          | 7 | 2 | 4 |                       | 0 | 1 | 2 |\n",
    "          | 5 | 0 | 6 |                       | 3 | 4 | 5 |\n",
    "          | 8 | 3 | 1 |                       | 6 | 7 | 8 |\n",
    "          \n",
    "상태는 각 위치 인덱스(0부터 8까지)에 위치한 숫자 값들의 튜플로 표현함. 위 예의 경우 초기 상태는 `(7, 2, 4, 5, 0, 6, 8, 3, 1)`로 표현됨.\n",
    "\n",
    "행동은 빈 공간으로 움직일 숫자 타일의 위치 인덱스로 표현함. 위 예의 초기 상태에서 숫자 타일 3(위치 인덱스 7)을 위로 움직여서 다음과 같은 상태로 이행시키는 행동은 `7`로 표현됨.\n",
    "\n",
    "          | 7 | 2 | 4 | \n",
    "          | 5 | 3 | 6 |\n",
    "          | 8 | 0 | 1 |"
   ]
  },
  {
   "cell_type": "code",
   "execution_count": null,
   "metadata": {},
   "outputs": [],
   "source": [
    "from itertools import combinations\n",
    "\n",
    "class EightPuzzle(Problem):\n",
    "    \"\"\"8-퍼즐 문제. 3*3 보드.\n",
    "     상태: 길이가 9인 튜플. 인덱스 i의 원소 값은 i 위치에 놓인 숫자를 의미함. 0은 빈 공간을 의미함.\"\"\"\n",
    "\n",
    "    def __init__(self, initial, goal=(0, 1, 2, 3, 4, 5, 6, 7, 8)):\n",
    "        \"\"\"초기 상태, 목표 상태 설정\"\"\"\n",
    "        assert inversions(initial) % 2 == inversions(goal) % 2 # 해결 가능한 숫자 배열인지 확인\n",
    "        self.initial, self.goal = initial, goal\n",
    "    \n",
    "    def actions(self, state):\n",
    "        \"\"\"빈 공간으로 움직일 숫자 타일의 위치 인덱스.\"\"\"\n",
    "        # 빈 공간의 위치에 따라 가능한 행동 정의\n",
    "        moves = ((1, 3),    (0, 2, 4),    (1, 5),\n",
    "                 (0, 4, 6), (1, 3, 5, 7), (2, 4, 8),\n",
    "                 (3, 7),    (4, 6, 8),    (7, 5))\n",
    "        blank = state.index(0) # 빈 공간의 위치 인덱스: 값 0이 몇번째에 위치해 있는가?\n",
    "        return moves[blank]\n",
    "    \n",
    "    def result(self, state, action):\n",
    "        \"\"\"빈 공간과 action에 지정된 위치 인덱스와 위치 교환.\"\"\"\n",
    "        s = list(state)\n",
    "        blank = state.index(0)\n",
    "        s[action], s[blank] = s[blank], s[action]\n",
    "        return tuple(s)\n",
    "\n",
    "    def h(self, node):\n",
    "        \"\"\"기본 휴리스틱 함수 지정\"\"\"\n",
    "        return self.manhattan_h(node)\n",
    "\n",
    "    def mismatch_h(self, node):\n",
    "        \"\"\"불일치 타일 수 휴리스틱\"\"\"\n",
    "        return sum(a != b for a, b in zip(node.state, self.goal))\n",
    "\n",
    "    def manhattan_h(self, node):\n",
    "        \"\"\"맨해튼 거리 휴리스틱.\n",
    "        목표 상태와 비교했을 때 각 숫자 타일별 (가로 위치 차이) + (세로 위치 차이)의 총합\"\"\"\n",
    "        X = (0, 1, 2, 0, 1, 2, 0, 1, 2) # 가로 위치\n",
    "        Y = (0, 0, 0, 1, 1, 1, 2, 2, 2) # 세로 위치\n",
    "        return sum(abs(X[s] - X[g]) + abs(Y[s] - Y[g]) \n",
    "                   for (s, g) in zip(node.state, self.goal) if s != 0)\n",
    "\n",
    "    def max_h(self, node):\n",
    "        score1 = self.manhattan_h(node)\n",
    "        score2 = self.mismatch_h(node)\n",
    "        return max(score1, score2)\n",
    "\n",
    "    \n",
    "def inversions(board):\n",
    "    \"\"\"각 숫자 타일 쌍에 대해 앞쪽에 위치한 숫자 타일이 뒷쪽에 위치한 숫자 타일보다 더 큰 쌍의 개수\"\"\"\n",
    "    return sum((a > b and a != 0 and b != 0) for (a, b) in combinations(board, 2))\n",
    "\n",
    "\n",
    "def board8(board, fmt=(3 * '{} {} {}\\n')):\n",
    "    \"8-퍼즐 보드 출력용 함수\"\n",
    "    return fmt.format(*board).replace('0', '_')"
   ]
  },
  {
   "cell_type": "markdown",
   "metadata": {},
   "source": [
    "## A* 탐색을 이용한 8 퍼즐 문제 해결"
   ]
  },
  {
   "cell_type": "code",
   "execution_count": null,
   "metadata": {},
   "outputs": [],
   "source": [
    "e1 = EightPuzzle((1, 4, 2, 0, 7, 5, 3, 6, 8))\n",
    "e2 = EightPuzzle((1, 2, 3, 4, 5, 6, 7, 8, 0))\n",
    "e3 = EightPuzzle((4, 0, 2, 5, 1, 3, 7, 8, 6))\n",
    "e4 = EightPuzzle((7, 2, 4, 5, 0, 6, 8, 3, 1))\n",
    "e5 = EightPuzzle((8, 6, 7, 2, 5, 4, 3, 0, 1))"
   ]
  },
  {
   "cell_type": "code",
   "execution_count": null,
   "metadata": {},
   "outputs": [],
   "source": [
    "%%time\n",
    "# 문제 정의에 포함된 기본 휴리스틱 함수(맨해튼 거리) 이용\n",
    "soln = path_states(astar_search(e4))\n",
    "print(f'length: {len(soln)}')\n",
    "for s in soln:\n",
    "    print(board8(s))"
   ]
  },
  {
   "cell_type": "code",
   "execution_count": null,
   "metadata": {},
   "outputs": [],
   "source": [
    "%%time\n",
    "# 불일치 타일 수 휴리스틱 이용\n",
    "soln = path_states(astar_search(e4, e4.mismatch_h))\n",
    "print(f'length: {len(soln)}')\n",
    "for s in soln:\n",
    "    print(board8(s))"
   ]
  },
  {
   "cell_type": "code",
   "execution_count": null,
   "metadata": {},
   "outputs": [],
   "source": []
  }
 ],
 "metadata": {
  "kernelspec": {
   "display_name": "Python 3 (ipykernel)",
   "language": "python",
   "name": "python3"
  },
  "language_info": {
   "codemirror_mode": {
    "name": "ipython",
    "version": 3
   },
   "file_extension": ".py",
   "mimetype": "text/x-python",
   "name": "python",
   "nbconvert_exporter": "python",
   "pygments_lexer": "ipython3",
   "version": "3.9.16"
  }
 },
 "nbformat": 4,
 "nbformat_minor": 2
}
