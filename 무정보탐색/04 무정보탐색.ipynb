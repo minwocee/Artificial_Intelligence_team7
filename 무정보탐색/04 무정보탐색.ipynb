{
 "cells": [
  {
   "cell_type": "markdown",
   "metadata": {},
   "source": [
    "무정보탐색 알고리즘들의 동작 방식을 이해해 봅시다. 여기 제공하는 코드는 GitHub aima-python의 코드를 기반으로 일부 수정한 것임."
   ]
  },
  {
   "cell_type": "markdown",
   "metadata": {},
   "source": [
    "# 문제 정의\n",
    "가장 먼저 해결할 문제를 정의합시다."
   ]
  },
  {
   "cell_type": "code",
   "execution_count": 1,
   "metadata": {},
   "outputs": [],
   "source": [
    "import math\n",
    "import heapq\n",
    "import sys\n",
    "from collections import defaultdict, deque"
   ]
  },
  {
   "cell_type": "markdown",
   "metadata": {},
   "source": [
    "## 문제 클래스"
   ]
  },
  {
   "cell_type": "code",
   "execution_count": 2,
   "metadata": {},
   "outputs": [],
   "source": [
    "class Problem:\n",
    "    \"\"\"해결할 문제에 대한 추상 클래스\n",
    "    다음 절차에 따라 이 클래스를 활용하여 문제해결하면 됨.\n",
    "    1. 이 클래스의 서브클래스 생성 (이 서브클래스를 편의상 YourProblem이라고 하자)\n",
    "    2. 다음 메쏘드들 구현\n",
    "       - actions\n",
    "       - result\n",
    "       - 필요에 따라 h, __init__, is_goal, action_cost도\n",
    "    3. YourProblem의 인스턴스를 생성\n",
    "    4. 다양한 탐색 함수들을 사용해서 YourProblem을 해결\"\"\"\n",
    "\n",
    "    def __init__(self, initial=None, goal=None, **kwds):\n",
    "        \"\"\"초기 상태(initial), 목표 상태(goal) 지정.\n",
    "        필요에 따라 다른 파라미터들 추가\"\"\"\n",
    "        self.__dict__.update(initial=initial, goal=goal, **kwds)  # __dict__: 객체의 속성 정보를 담고 있는 딕셔너리\n",
    "\n",
    "    def actions(self, state):\n",
    "        \"\"\"행동: 주어진 상태(state)에서 취할 수 있는 행동들을 리턴함.\n",
    "        대개 리스트 형태로 리턴하면 될 것임.\n",
    "        한꺼번에 리턴하기에 너무 많은 행동들이 있을 경우, yield 사용을 검토할 것.\"\"\"\n",
    "        raise NotImplementedError\n",
    "\n",
    "    def result(self, state, action):\n",
    "        \"\"\"이행모델: 주어진 상태(state)에서 주어진 행동(action)을 취했을 때의 결과 상태를 리턴함.\n",
    "        action은 self.actions(state) 중 하나여야 함.\"\"\"\n",
    "        raise NotImplementedError\n",
    "\n",
    "    def is_goal(self, state):\n",
    "        \"\"\"목표검사: 상태가 목표 상태이면 True를 리턴함.\n",
    "        상태가 self.goal과 일치하는지 혹은 self.goal이 리스트인 경우 그 중의 하나인지 체크함.\n",
    "        더 복잡한 목표검사가 필요할 경우 이 메쏘드를 오버라이드하면 됨.\"\"\"\n",
    "        if isinstance(self.goal, list):\n",
    "            return is_in(state, self.goal)\n",
    "        else:\n",
    "            return state == self.goal\n",
    "\n",
    "    def action_cost(self, state1, action, state2):\n",
    "        \"\"\"행동 비용: state1에서 action을 통해 state2에 이르는 비용을 리턴함.\n",
    "        경로가 중요치 않은 문제의 경우에는 state2만을 고려한 함수가 될 것임.\n",
    "        현재 구현된 기본 버전은 모든 상태에서 행동 비용을 1로 산정함.\"\"\"\n",
    "        return 1\n",
    "\n",
    "    def h(self, node):\n",
    "        \"\"\"휴리스틱 함수:\n",
    "        문제에 따라 휴리스틱 함수를 적절히 변경해줘야 함.\"\"\"\n",
    "        return 0\n",
    "    \n",
    "    def __str__(self):\n",
    "        return f'{type(self).__name__}({self.initial!r}, {self.goal!r})'\n",
    "\n",
    "    \n",
    "def is_in(elt, seq):\n",
    "    \"\"\"elt가 seq의 원소인지 체크.\n",
    "    (elt in seq)와 유사하나 ==(값의 비교)이 아닌 is(객체의 일치 여부)로 비교함.\"\"\"\n",
    "    return any(x is elt for x in seq)"
   ]
  },
  {
   "cell_type": "markdown",
   "metadata": {},
   "source": [
    "## 노드"
   ]
  },
  {
   "cell_type": "code",
   "execution_count": 3,
   "metadata": {},
   "outputs": [],
   "source": [
    "class Node:\n",
    "    \"\"\"탐색 트리의 노드. 다음 요소들로 구성됨.\n",
    "    - 이 노드에 대응되는 상태(한 상태에 여러 노드가 대응될 수도 있음)\n",
    "    - 이 노드를 생성한 부모에 대한 포인터\n",
    "    - 이 상태에 이르게 한 행동\n",
    "    - 경로 비용(g)\n",
    "    이 클래스의 서브클래스를 만들 필요는 없을 것임.\"\"\"\n",
    "\n",
    "    def __init__(self, state, parent=None, action=None, path_cost=0):\n",
    "        \"\"\"parent에서 action을 취해 만들어지는 탐색 트리의 노드 생성\"\"\"\n",
    "        self.__dict__.update(state=state, parent=parent, action=action, path_cost=path_cost)\n",
    "\n",
    "    def __repr__(self):\n",
    "        return f\"<{self.state}>\"\n",
    "\n",
    "    def __len__(self): # 탐색 트리에서 이 노드의 깊이\n",
    "        return 0 if self.parent is None else (1 + len(self.parent))\n",
    "    \n",
    "    def __lt__(self, other):\n",
    "        return self.path_cost < other.path_cost"
   ]
  },
  {
   "cell_type": "code",
   "execution_count": 4,
   "metadata": {},
   "outputs": [],
   "source": [
    "failure = Node('failure', path_cost=math.inf) # 알고리즘이 해결책을 찾을 수 없음을 나타냄\n",
    "cutoff  = Node('cutoff',  path_cost=math.inf) # 반복적 깊이 증가 탐색이 중단(cut off)됐음을 나타냄\n",
    "\n",
    "def expand(problem, node):\n",
    "    \"\"\"노드 확장: 이 노드에서 한 번의 움직임으로 도달 가능한 자식 노드들을 생성하여 yield함\"\"\"\n",
    "    s = node.state\n",
    "    for action in problem.actions(s):\n",
    "        s1 = problem.result(s, action)\n",
    "        cost = node.path_cost + problem.action_cost(s, action, s1)\n",
    "        yield Node(s1, node, action, cost)\n",
    "        \n",
    "\n",
    "def path_actions(node):\n",
    "    \"\"\"루트 노드에서부터 이 노드까지 이르는 행동 시퀀스. \n",
    "    결국 node가 목표 상태라면 이 행동 시퀀스는 해결책임.\n",
    "    목표 상태 발견 후 리턴할 행동 시퀀스 생성을 위해 사용됨.\n",
    "    부모 포인터를 역으로 추적하여 시퀀스 생성\"\"\"\n",
    "    if node.parent is None:\n",
    "        return []  \n",
    "    return path_actions(node.parent) + [node.action]\n",
    "\n",
    "\n",
    "def path_states(node):\n",
    "    \"\"\"루트 노드에서부터 이 노드까지 이르는 상태 시퀀스\"\"\"\n",
    "    if node in (cutoff, failure, None): \n",
    "        return []\n",
    "    return path_states(node.parent) + [node.state]"
   ]
  },
  {
   "cell_type": "markdown",
   "metadata": {},
   "source": [
    "## 경계 자료구조로 사용될 큐"
   ]
  },
  {
   "cell_type": "code",
   "execution_count": 5,
   "metadata": {},
   "outputs": [],
   "source": [
    "# FIFO Queue\n",
    "FIFOQueue = deque\n",
    "\n",
    "# LIFO Queue(Stack)\n",
    "LIFOQueue = list\n",
    "\n",
    "# 우선순위 큐\n",
    "class PriorityQueue:\n",
    "    \"\"\"우선순위 큐:\n",
    "    key 값이 가장 적은 항목이 가장 먼저 삭제되는 큐.\"\"\"\n",
    "\n",
    "    def __init__(self, items=(), key=lambda x: x): \n",
    "        \"\"\"key 값 계산하는 함수. 예: best first search의 평가 함수 f\"\"\"\n",
    "        self.key = key\n",
    "        self.items = [] # (키, 항목) 쌍이 저장되는 힙(heap)\n",
    "        for item in items:\n",
    "            self.add(item)\n",
    "         \n",
    "    def add(self, item):\n",
    "        \"\"\"item 삽입\"\"\"\n",
    "        pair = (self.key(item), item)\n",
    "        heapq.heappush(self.items, pair)\n",
    "\n",
    "    def pop(self):\n",
    "        \"\"\"키 값이 가장 적은 항목을 삭제하여 그 값을 리턴.\"\"\"\n",
    "        return heapq.heappop(self.items)[1]\n",
    "    \n",
    "    def top(self):\n",
    "        \"\"\"키 값이 가장 적은 항목의 값을 조회.\"\"\"\n",
    "        return self.items[0][1]\n",
    "\n",
    "    def __len__(self):\n",
    "        \"\"\"항목 개수 조회\"\"\"\n",
    "        return len(self.items)"
   ]
  },
  {
   "cell_type": "markdown",
   "metadata": {},
   "source": [
    "# 무정보 탐색 알고리즘"
   ]
  },
  {
   "cell_type": "markdown",
   "metadata": {},
   "source": [
    "## BFS"
   ]
  },
  {
   "cell_type": "code",
   "execution_count": 6,
   "metadata": {},
   "outputs": [],
   "source": [
    "def breadth_first_search(problem):\n",
    "    \"\"\"너비 우선 탐색\"\"\"\n",
    "    node = Node(problem.initial)\n",
    "    if problem.is_goal(problem.initial):\n",
    "        return node\n",
    "    frontier = FIFOQueue([node])\n",
    "    reached = {problem.initial}\n",
    "    while frontier:\n",
    "        node = frontier.pop()\n",
    "        for child in expand(problem, node):\n",
    "            s = child.state\n",
    "            if problem.is_goal(s):\n",
    "                return child\n",
    "            if s not in reached:\n",
    "                reached.add(s)\n",
    "                frontier.appendleft(child)\n",
    "    return failure"
   ]
  },
  {
   "cell_type": "markdown",
   "metadata": {},
   "source": [
    "## DFS"
   ]
  },
  {
   "cell_type": "code",
   "execution_count": 7,
   "metadata": {},
   "outputs": [],
   "source": [
    "def is_cycle(node, k=30):\n",
    "    \"node가 길이 k이하인 싸이클을 형성하는가?\"\n",
    "    def find_cycle(ancestor, k):\n",
    "        return (ancestor is not None and k > 0 and\n",
    "                (ancestor.state == node.state or find_cycle(ancestor.parent, k - 1)))\n",
    "    return find_cycle(node.parent, k)\n",
    "\n",
    "\n",
    "def depth_first_recursive_search(problem, node=None):\n",
    "    \"\"\"깊이 우선 탐색\"\"\"\n",
    "    if node is None: \n",
    "        node = Node(problem.initial)\n",
    "    if problem.is_goal(node.state):\n",
    "        return node\n",
    "    elif is_cycle(node):\n",
    "        return failure\n",
    "    else:\n",
    "        for child in expand(problem, node):\n",
    "            result = depth_first_recursive_search(problem, child)\n",
    "            if result:\n",
    "                return result\n",
    "        return failure"
   ]
  },
  {
   "cell_type": "markdown",
   "metadata": {},
   "source": [
    "## 깊이 제한 탐색"
   ]
  },
  {
   "cell_type": "code",
   "execution_count": 8,
   "metadata": {},
   "outputs": [],
   "source": [
    "def depth_limited_search(problem, limit=10):\n",
    "    \"\"\"깊이 제한 탐색\"\"\"\n",
    "    frontier = LIFOQueue([Node(problem.initial)])\n",
    "    result = failure\n",
    "    while frontier:\n",
    "        node = frontier.pop()\n",
    "        if problem.is_goal(node.state):\n",
    "            return node\n",
    "        elif len(node) >= limit:\n",
    "            result = cutoff\n",
    "        elif not is_cycle(node):\n",
    "            for child in expand(problem, node):\n",
    "                frontier.append(child)\n",
    "    return result"
   ]
  },
  {
   "cell_type": "markdown",
   "metadata": {},
   "source": [
    "## 반복적 깊이 증가 탐색(IDS)"
   ]
  },
  {
   "cell_type": "code",
   "execution_count": 9,
   "metadata": {},
   "outputs": [],
   "source": [
    "def iterative_deepening_search(problem):\n",
    "    \"\"\"반복적 깊이 증가 탐색\"\"\"\n",
    "    for limit in range(1, sys.maxsize):\n",
    "        result = depth_limited_search(problem, limit)\n",
    "        if result != cutoff:\n",
    "            return result"
   ]
  },
  {
   "cell_type": "markdown",
   "metadata": {},
   "source": [
    "# 탐색을 통한 문제 해결 예: 루마니아 여행"
   ]
  },
  {
   "cell_type": "markdown",
   "metadata": {},
   "source": [
    "## 문제 정의"
   ]
  },
  {
   "cell_type": "code",
   "execution_count": 10,
   "metadata": {},
   "outputs": [],
   "source": [
    "class Map:\n",
    "    \"\"\"2차원 지도를 표현하는 그래프.\n",
    "    Map(links, locations) 형태로 생성.\n",
    "    - links: [(v1, v2)...] 형식 또는 {(v1, v2): distance...} dict 구조 가능\n",
    "    - locations: {v1: (x, y)} 형식으로 각 노드의 위치(좌표) 설정 가능\n",
    "    - directed=False이면, 양방향 링크 추가. 즉, (v1, v2) 링크에 대해 (v2, v1) 링크 추가\"\"\"\n",
    "\n",
    "    def __init__(self, links, locations=None, directed=False):\n",
    "        if not hasattr(links, 'items'):\n",
    "            links = {link: 1 for link in links}  # 거리 기본값을 1로 설정\n",
    "        if not directed:\n",
    "            for (v1, v2) in list(links):\n",
    "                links[v2, v1] = links[v1, v2]\n",
    "        self.distances = links\n",
    "        self.neighbors = multimap(links)  # 인접 리스트\n",
    "        self.locations = locations or defaultdict(lambda: (0, 0))\n",
    "\n",
    "        \n",
    "def multimap(pairs):\n",
    "    \"\"\"(key, val) 쌍들이 주어지면, {key: [val,...]} 형태의 dict 생성하여 리턴.\"\"\"\n",
    "    result = defaultdict(list)\n",
    "    for key, val in pairs:\n",
    "        result[key].append(val)\n",
    "    return result"
   ]
  },
  {
   "cell_type": "code",
   "execution_count": 11,
   "metadata": {},
   "outputs": [],
   "source": [
    "class RouteProblem(Problem):\n",
    "    \"\"\"지도(Map) 상의 위치 간의 이동 경로를 알아 내는 문제.\n",
    "    RouteProblem(초기상태, 종료상태, map=Map(...)) 형식으로 문제 생성.\n",
    "    상태: Map 그래프의 노드들(예: 'A' - 위치 이름이 'A'),\n",
    "    행동: 목적지 상태들(예: 'A' - 위치 'A'로 이동하는 행동)\"\"\"\n",
    "    \n",
    "    def actions(self, state): \n",
    "        \"\"\"state에 인접한 장소들\"\"\"\n",
    "        return self.map.neighbors[state]\n",
    "    \n",
    "    def result(self, state, action):\n",
    "        \"\"\"지도 상에서 가능하다면, action 위치로 이동.\n",
    "        불가능하다면, 위치(상태) 변화 없음. 즉, 위치(상태)는 그대로\"\"\"\n",
    "        return action if action in self.map.neighbors[state] else state\n",
    "    \n",
    "    def action_cost(self, s, action, s1):\n",
    "        \"\"\"s에서 s1로 이동하는 비용: 거리\"\"\"\n",
    "        return self.map.distances[s, s1]\n",
    "    \n",
    "    def h(self, node):\n",
    "        \"node의 상태와 목표 상태 사이의 직선 거리\"\n",
    "        locs = self.map.locations\n",
    "        return straight_line_distance(locs[node.state], locs[self.goal])\n",
    "    \n",
    "    \n",
    "def straight_line_distance(A, B):\n",
    "    \"두 점 사이의 직선 거리\"\n",
    "    return sum(abs(a - b)**2 for (a, b) in zip(A, B)) ** 0.5"
   ]
  },
  {
   "cell_type": "code",
   "execution_count": 12,
   "metadata": {},
   "outputs": [],
   "source": [
    "# 루마니아 지도 정의\n",
    "romania = Map(\n",
    "    {('O', 'Z'):  71, ('O', 'S'): 151, ('A', 'Z'): 75, ('A', 'S'): 140, ('A', 'T'): 118, \n",
    "     ('L', 'T'): 111, ('L', 'M'):  70, ('D', 'M'): 75, ('C', 'D'): 120, ('C', 'R'): 146, \n",
    "     ('C', 'P'): 138, ('R', 'S'):  80, ('F', 'S'): 99, ('B', 'F'): 211, ('B', 'P'): 101, \n",
    "     ('B', 'G'):  90, ('B', 'U'):  85, ('H', 'U'): 98, ('E', 'H'):  86, ('U', 'V'): 142, \n",
    "     ('I', 'V'):  92, ('I', 'N'):  87, ('P', 'R'): 97},\n",
    "    {'A': ( 76, 497), 'B': (400, 327), 'C': (246, 285), 'D': (160, 296), 'E': (558, 294), \n",
    "     'F': (285, 460), 'G': (368, 257), 'H': (548, 355), 'I': (488, 535), 'L': (162, 379),\n",
    "     'M': (160, 343), 'N': (407, 561), 'O': (117, 580), 'P': (311, 372), 'R': (227, 412),\n",
    "     'S': (187, 463), 'T': ( 83, 414), 'U': (471, 363), 'V': (535, 473), 'Z': (92, 539)})"
   ]
  },
  {
   "cell_type": "code",
   "execution_count": 13,
   "metadata": {},
   "outputs": [],
   "source": [
    "# 루마니아 여행 문제 정의\n",
    "r0 = RouteProblem('A', 'A', map=romania)\n",
    "r1 = RouteProblem('A', 'B', map=romania)  # 초기상태: A, 목표상태: B\n",
    "r2 = RouteProblem('N', 'L', map=romania)\n",
    "r3 = RouteProblem('E', 'T', map=romania)\n",
    "r4 = RouteProblem('O', 'M', map=romania)"
   ]
  },
  {
   "cell_type": "markdown",
   "metadata": {},
   "source": [
    "## 무정보 탐색 결과"
   ]
  },
  {
   "cell_type": "code",
   "execution_count": 14,
   "metadata": {},
   "outputs": [
    {
     "data": {
      "text/plain": [
       "['A', 'S', 'F', 'B']"
      ]
     },
     "execution_count": 14,
     "metadata": {},
     "output_type": "execute_result"
    }
   ],
   "source": [
    "path_states(breadth_first_search(r1))"
   ]
  },
  {
   "cell_type": "code",
   "execution_count": 15,
   "metadata": {},
   "outputs": [
    {
     "data": {
      "text/plain": [
       "['A', 'Z', 'O', 'S', 'R', 'C', 'P', 'B']"
      ]
     },
     "execution_count": 15,
     "metadata": {},
     "output_type": "execute_result"
    }
   ],
   "source": [
    "path_states(depth_first_recursive_search(r1))"
   ]
  },
  {
   "cell_type": "code",
   "execution_count": 16,
   "metadata": {},
   "outputs": [
    {
     "data": {
      "text/plain": [
       "['A', 'S', 'F', 'B']"
      ]
     },
     "execution_count": 16,
     "metadata": {},
     "output_type": "execute_result"
    }
   ],
   "source": [
    "path_states(depth_limited_search(r1, limit=3))"
   ]
  },
  {
   "cell_type": "code",
   "execution_count": 17,
   "metadata": {},
   "outputs": [
    {
     "data": {
      "text/plain": [
       "['A', 'S', 'F', 'B']"
      ]
     },
     "execution_count": 17,
     "metadata": {},
     "output_type": "execute_result"
    }
   ],
   "source": [
    "path_states(iterative_deepening_search(r1))"
   ]
  },
  {
   "cell_type": "code",
   "execution_count": 18,
   "metadata": {},
   "outputs": [
    {
     "name": "stdout",
     "output_type": "stream",
     "text": [
      "['A']\n",
      "['A', 'S', 'F', 'B']\n",
      "['N', 'I', 'V', 'U', 'B', 'P', 'C', 'D', 'M', 'L']\n",
      "['E', 'H', 'U', 'B', 'F', 'S', 'A', 'T']\n",
      "['O', 'S', 'R', 'C', 'D', 'M']\n"
     ]
    }
   ],
   "source": [
    "for problem in [r0, r1, r2, r3, r4]:\n",
    "    print(path_states(iterative_deepening_search(problem)))"
   ]
  },
  {
   "cell_type": "code",
   "execution_count": null,
   "metadata": {},
   "outputs": [],
   "source": []
  }
 ],
 "metadata": {
  "kernelspec": {
   "display_name": "Python 3",
   "language": "python",
   "name": "python3"
  },
  "language_info": {
   "codemirror_mode": {
    "name": "ipython",
    "version": 3
   },
   "file_extension": ".py",
   "mimetype": "text/x-python",
   "name": "python",
   "nbconvert_exporter": "python",
   "pygments_lexer": "ipython3",
   "version": "3.11.1"
  },
  "vscode": {
   "interpreter": {
    "hash": "045e4db5da8b967fe9357b3f1c985609572601dfa03a7721cf01075ac1df2eb3"
   }
  }
 },
 "nbformat": 4,
 "nbformat_minor": 4
}
