{
 "cells": [
  {
   "cell_type": "markdown",
   "metadata": {},
   "source": [
    " 코드는 GitHub aima-python의 코드를 기반으로 일부 수정한 것임."
   ]
  },
  {
   "cell_type": "code",
   "execution_count": null,
   "metadata": {},
   "outputs": [],
   "source": [
    "# 탐색을 통한 문제 해결을 위해 필요한 기반 구조들은 search_common.py에 코드를 옮겨서 저장해뒀음.\n",
    "from search_common import *\n",
    "import operator\n",
    "import random\n",
    "import numpy as np\n",
    "import matplotlib.pyplot as plt # 시각화 모듈\n",
    "from PIL import Image\n",
    "import bisect"
   ]
  },
  {
   "cell_type": "markdown",
   "metadata": {},
   "source": [
    "## 국지적 탐색 알고리즘 구현"
   ]
  },
  {
   "cell_type": "markdown",
   "metadata": {},
   "source": [
    "### 언덕 등반 탐색"
   ]
  },
  {
   "cell_type": "code",
   "execution_count": null,
   "metadata": {},
   "outputs": [],
   "source": [
    "def hill_climbing(problem):\n",
    "    \"\"\"언덕 등반 탐색. 최급상승 버전(목표함수를 최대화시키는 문제)\"\"\"\n",
    "    current = Node(problem.initial)\n",
    "    while True:\n",
    "        neighbors = expand(problem, current)\n",
    "        if not neighbors:\n",
    "            break\n",
    "        # neighbors들 중에서 가장 큰 값; 동일한 값들 중에서는 랜덤하게 하나 선택.\n",
    "        neighbor = argmax_random_tie(neighbors, key=lambda node: problem.value(node.state))\n",
    "        if problem.value(neighbor.state) <= problem.value(current.state):\n",
    "            break\n",
    "        current = neighbor\n",
    "    return current.state\n",
    "\n",
    "\n",
    "def argmin_random_tie(seq, key=lambda x: x):\n",
    "    \"\"\"seq의 원소 중 최소값 리턴. 최소값이 여러개인 경우는 랜덤하게 선택\"\"\"\n",
    "    return min(shuffled(seq), key=key)\n",
    "\n",
    "\n",
    "def argmax_random_tie(seq, key=lambda x: x):\n",
    "    \"\"\"seq의 원소 중 최대값 리턴. 최대값이 여러개인 경우는 랜덤하게 선택\"\"\"\n",
    "    return max(shuffled(seq), key=key)\n",
    "\n",
    "\n",
    "def shuffled(iterable):\n",
    "    \"\"\"iterable 복사본을 만든 후 랜덤 셔플\"\"\"\n",
    "    items = list(iterable)\n",
    "    random.shuffle(items)\n",
    "    return items"
   ]
  },
  {
   "cell_type": "markdown",
   "metadata": {},
   "source": [
    "### Simulated Annealing\n",
    "schedule 함수로는 $schedule(t) = k \\times e^{-\\lambda t}$ 사용"
   ]
  },
  {
   "cell_type": "code",
   "execution_count": null,
   "metadata": {},
   "outputs": [],
   "source": [
    "def exp_schedule(k=20, lam=0.005, limit=100):\n",
    "    \"\"\"simulated annealing용 schedule 함수\"\"\"\n",
    "    return lambda t: (k * np.exp(-lam * t) if t < limit else 0)\n",
    "\n",
    "\n",
    "def simulated_annealing(problem, schedule=exp_schedule()):\n",
    "    \"\"\"simulated annealing\"\"\"\n",
    "    current = Node(problem.initial)\n",
    "    for t in range(sys.maxsize):\n",
    "        T = schedule(t)\n",
    "        if T == 0:\n",
    "            return current.state\n",
    "        neighbors = [n for n in expand(problem, current)]\n",
    "        if len(neighbors) == 0:\n",
    "            return current.state\n",
    "        next_choice = random.choice(neighbors)\n",
    "        delta_e = problem.value(next_choice.state) - problem.value(current.state)\n",
    "        if delta_e > 0 or probability(np.exp(delta_e / T)):\n",
    "            current = next_choice\n",
    "\n",
    "            \n",
    "def probability(p):\n",
    "    \"\"\"p의 확률로 True를 리턴함.\"\"\"\n",
    "    return p > random.uniform(0.0, 1.0)"
   ]
  },
  {
   "cell_type": "markdown",
   "metadata": {},
   "source": [
    "### 유전 알고리즘"
   ]
  },
  {
   "cell_type": "code",
   "execution_count": null,
   "metadata": {},
   "outputs": [],
   "source": [
    "def genetic_algorithm(population, fitness_fn, gene_pool=[0, 1], f_thres=None, ngen=1000, pmut=0.1):\n",
    "    \"\"\"유전 알고리즘.\n",
    "        population: 초기 개체군\n",
    "        fitness_fn: 적응도 함수\n",
    "        gene_pool: 개체의 유전자들이 가질 수 있는 값들의 리스트\n",
    "        f_thres: 적응도 임계치. 개체의 적응도가 이 값 이상이 되면 iteration이 멈춤.\n",
    "        ngen: iteration 수\n",
    "        pmut: 돌연변이 확률\"\"\"\n",
    "    for i in range(ngen):\n",
    "        population = [mutate(recombine(*select(2, population, fitness_fn)), gene_pool, pmut)\n",
    "                      for i in range(len(population))]\n",
    "\n",
    "        fittest_individual = fitness_threshold(fitness_fn, f_thres, population)\n",
    "        if fittest_individual:\n",
    "            return fittest_individual\n",
    "\n",
    "    return max(population, key=fitness_fn)\n",
    "\n",
    "\n",
    "def fitness_threshold(fitness_fn, f_thres, population):\n",
    "    \"\"\"적응도 함수가 가장 높은 개체 리턴. 그 개체의 적응도가 임계치 미만이면 None 리턴\"\"\"\n",
    "    if not f_thres:\n",
    "        return None\n",
    "\n",
    "    fittest_individual = max(population, key=fitness_fn)\n",
    "    if fitness_fn(fittest_individual) >= f_thres:\n",
    "        return fittest_individual\n",
    "\n",
    "    return None"
   ]
  },
  {
   "cell_type": "code",
   "execution_count": null,
   "metadata": {},
   "outputs": [],
   "source": [
    "def init_population(pop_number, gene_pool, state_length):\n",
    "    \"\"\"개체군 초기화.\n",
    "    pop_number: 개체군에 포함될 개체 수\n",
    "    gene_pool: 개체의 유전자들이 가질 수 있는 값들의 리스트\n",
    "    state_length: 각 개체의 길이\"\"\"\n",
    "    g = len(gene_pool)\n",
    "    population = []\n",
    "    for i in range(pop_number):\n",
    "        new_individual = [gene_pool[random.randrange(0, g)] for j in range(state_length)]\n",
    "        population.append(new_individual)\n",
    "\n",
    "    return population\n",
    "\n",
    "\n",
    "def select(r, population, fitness_fn):\n",
    "    \"\"\"선택 연산(selection).\n",
    "    r: 선택할 개체 수\n",
    "    population: 개체군\n",
    "    fitness_fn: 적응도 함수\"\"\"\n",
    "    fitnesses = map(fitness_fn, population)\n",
    "    sampler = weighted_sampler(population, fitnesses)\n",
    "    return [sampler() for i in range(r)]\n",
    "\n",
    "\n",
    "def recombine(x, y):\n",
    "    \"\"\"교차 연산(point crossover): 하나의 교차점을 기준으로 결합됨\"\"\"\n",
    "    n = len(x)\n",
    "    c = random.randrange(0, n)\n",
    "    return x[:c] + y[c:]\n",
    "\n",
    "\n",
    "def recombine_uniform(x, y):\n",
    "    \"\"\"교차 연산(uniform crossover): 각 유전자 값이 두 부모로부터 랜덤하게 선택되어 결합됨\"\"\"\n",
    "    n = len(x)\n",
    "    result = [0] * n\n",
    "    indexes = random.sample(range(n), n)\n",
    "    for i in range(n):\n",
    "        ix = indexes[i]\n",
    "        result[ix] = x[ix] if i < n / 2 else y[ix]\n",
    "\n",
    "    return ''.join(str(r) for r in result)\n",
    "\n",
    "\n",
    "def mutate(x, gene_pool, pmut):\n",
    "    \"\"\"돌연변이 연산(mutation)\"\"\"\n",
    "    if random.uniform(0, 1) >= pmut:\n",
    "        return x\n",
    "\n",
    "    n = len(x)\n",
    "    g = len(gene_pool)\n",
    "    c = random.randrange(0, n)\n",
    "    r = random.randrange(0, g)\n",
    "\n",
    "    new_gene = gene_pool[r]\n",
    "    return x[:c] + [new_gene] + x[c + 1:]\n",
    "\n",
    "\n",
    "def weighted_sampler(seq, weights):\n",
    "    \"\"\"weights의 가중치를 사용하여 seq를 랜덤 샘플링하는 함수 리턴.\"\"\"\n",
    "    totals = []\n",
    "    for w in weights:\n",
    "        totals.append(w + totals[-1] if totals else w)\n",
    "    return lambda: seq[bisect.bisect(totals, random.uniform(0, totals[-1]))]"
   ]
  },
  {
   "cell_type": "markdown",
   "metadata": {},
   "source": [
    "## 국지적 탐색을 통한 문제 해결\n",
    "### 봉우리 찾기 문제(Peak Finding Problem)\n",
    "결국 극댓값을 찾는 문제. 언덕 등반과 simulated annealing 알고리즘을 적용해보자."
   ]
  },
  {
   "cell_type": "markdown",
   "metadata": {},
   "source": [
    "        c\n",
    "     b  a  d\n",
    "        e\n",
    "위와 같이 숫자들이 배치되어 있을 때,\n",
    "`a>=b and a>=c and a>=d and a>=e` 라면, a는 봉우리(극댓값)임.\n",
    "이런 봉우리를 찾는 문제. 숫자들의 배치는 다음과 같이 2차원 배열이나 리스트로 표현할 수 있을 것임.\n",
    "\n",
    "    3  7  2  8\n",
    "    5  2  9  1\n",
    "    5  3  3  1"
   ]
  },
  {
   "cell_type": "code",
   "execution_count": null,
   "metadata": {},
   "outputs": [],
   "source": [
    "# 미리 정의된 행동들\n",
    "directions4 = [(-1, 0), (0, 1), (1, 0), (0, -1)] # 상우하좌 4 방향 (4방향으로만 행동을 허용하도록 문제를 정의할 경우 사용)\n",
    "directions8 = directions4 + [(-1, 1), (1, 1), (1, -1), (-1, -1)] # 대각선 4 방향 추가 (대각선 방향 행동도 허용하여 문제 정의할 경우 사용)\n",
    "\n",
    "\n",
    "class PeakFindingProblem(Problem):\n",
    "    \"\"\"봉우리 찾기 문제. 상태는 현재의 위치. 예: (1, 2)\"\"\"\n",
    "\n",
    "    def __init__(self, initial, grid, defined_actions=directions4):\n",
    "        \"\"\"grid: 2차원 배열/리스트. grid의 각 상태는 위치 인덱스 튜플로 표현됨.\n",
    "        defined_actions: 문제에서 허용할 행동 정의\"\"\"\n",
    "        super().__init__(initial)\n",
    "        self.grid = grid\n",
    "        self.defined_actions = defined_actions\n",
    "        self.n = len(grid)\n",
    "        assert self.n > 0\n",
    "        self.m = len(grid[0])\n",
    "        assert self.m > 0\n",
    "\n",
    "    def actions(self, state):\n",
    "        \"\"\"주어진 상태에서 허용되는 행동 리스트\"\"\"\n",
    "        allowed_actions = []\n",
    "        for action in self.defined_actions:\n",
    "            next_state = vector_add(state, action)\n",
    "            if 0 <= next_state[0] <= self.n - 1 and 0 <= next_state[1] <= self.m - 1:\n",
    "                allowed_actions.append(action)\n",
    "        return allowed_actions\n",
    "\n",
    "    def result(self, state, action):\n",
    "        \"\"\"행동에 명시된 방향으로 이동\"\"\"\n",
    "        return vector_add(state, action)\n",
    "\n",
    "    def value(self, state):\n",
    "        \"\"\"상태 값: 그 위치에 놓인 숫자 값\"\"\"\n",
    "        x, y = state\n",
    "        assert 0 <= x < self.n\n",
    "        assert 0 <= y < self.m\n",
    "        return self.grid[x][y]\n",
    "\n",
    "\n",
    "def vector_add(a, b):\n",
    "    \"\"\"두 벡터의 각 성분별로 덧셈 연산\"\"\"\n",
    "    return tuple(map(operator.add, a, b))"
   ]
  },
  {
   "cell_type": "code",
   "execution_count": null,
   "metadata": {},
   "outputs": [],
   "source": [
    "# 숫자들의 배치\n",
    "grid = [[3, 7, 2, 8], [5, 2, 9, 1], [5, 3, 3, 1]]"
   ]
  },
  {
   "cell_type": "markdown",
   "metadata": {},
   "source": [
    "    3  7  2  8\n",
    "    5  2  9  1\n",
    "    5  3  3  1"
   ]
  },
  {
   "cell_type": "markdown",
   "metadata": {},
   "source": [
    "상태는 각 숫자의 좌표를 표현하는 인덱스 튜플로 표현됨. 1행 1열(숫자 3의 위치)은 (0, 0)으로 표현될 것임.  \n",
    "초기 상태를 (0, 0) 상태에서 시작하고, 동서남북 4방향으로의 행동만 허용하는 것으로 다음과 같이 문제를 정의하자."
   ]
  },
  {
   "cell_type": "code",
   "execution_count": null,
   "metadata": {
    "scrolled": true
   },
   "outputs": [],
   "source": [
    "initial = (0, 0)\n",
    "problem = PeakFindingProblem(initial, grid, directions4)"
   ]
  },
  {
   "cell_type": "code",
   "execution_count": null,
   "metadata": {},
   "outputs": [],
   "source": [
    "final = hill_climbing(problem)\n",
    "print(final, problem.value(final), sep='\\t')"
   ]
  },
  {
   "cell_type": "code",
   "execution_count": null,
   "metadata": {},
   "outputs": [],
   "source": [
    "final = simulated_annealing(problem)\n",
    "print(final, problem.value(final), sep='\\t')"
   ]
  },
  {
   "cell_type": "code",
   "execution_count": null,
   "metadata": {},
   "outputs": [],
   "source": [
    "# 여러번 반복해서 해를 찾고 그 결과 중 최대값을 리턴하면 최적해일 가능성이 높아질 것임\n",
    "solutions = {problem.value(simulated_annealing(problem)) for i in range(100)}\n",
    "print(solutions, max(solutions), sep='\\t')"
   ]
  },
  {
   "cell_type": "markdown",
   "metadata": {},
   "source": [
    "숫자 배치를 바꿔보자."
   ]
  },
  {
   "cell_type": "code",
   "execution_count": null,
   "metadata": {},
   "outputs": [],
   "source": [
    "# 중심에 극대가 놓이는 숫자 배치 생성\n",
    "def gaussian_kernel(l=5, sig=1.0):\n",
    "    ax = np.arange(-l // 2 + 1., l // 2 + 1.)\n",
    "    xx, yy = np.meshgrid(ax, ax)\n",
    "    kernel = np.exp(-(xx ** 2 + yy ** 2) / (2. * sig ** 2))\n",
    "    return kernel"
   ]
  },
  {
   "cell_type": "code",
   "execution_count": null,
   "metadata": {},
   "outputs": [],
   "source": [
    "grid = gaussian_kernel()\n",
    "grid"
   ]
  },
  {
   "cell_type": "code",
   "execution_count": null,
   "metadata": {},
   "outputs": [],
   "source": [
    "# grid의 히드맵 생성\n",
    "def heatmap(grid, cmap='binary', interpolation='nearest'):\n",
    "    fig = plt.figure(figsize=(7, 7))\n",
    "    ax = fig.add_subplot(111)\n",
    "    ax.set_title('Heatmap')\n",
    "    plt.imshow(grid, cmap=cmap, interpolation=interpolation)\n",
    "    fig.tight_layout()\n",
    "    plt.show()"
   ]
  },
  {
   "cell_type": "code",
   "execution_count": null,
   "metadata": {},
   "outputs": [],
   "source": [
    "heatmap(grid, cmap='jet', interpolation='spline16')"
   ]
  },
  {
   "cell_type": "markdown",
   "metadata": {},
   "source": [
    "변경된 숫자 배치로 문제를 수정하자. 그리고 허용 가능한 행동을 총 8개로 정의한다."
   ]
  },
  {
   "cell_type": "code",
   "execution_count": null,
   "metadata": {},
   "outputs": [],
   "source": [
    "problem = PeakFindingProblem(initial, grid, directions8)\n",
    "directions8"
   ]
  },
  {
   "cell_type": "markdown",
   "metadata": {},
   "source": [
    "#### 성능 비교"
   ]
  },
  {
   "cell_type": "code",
   "execution_count": null,
   "metadata": {},
   "outputs": [],
   "source": [
    "%%time\n",
    "final = hill_climbing(problem)\n",
    "print(final, problem.value(final), sep='\\t')"
   ]
  },
  {
   "cell_type": "code",
   "execution_count": null,
   "metadata": {},
   "outputs": [],
   "source": [
    "%%time\n",
    "final = simulated_annealing(problem)\n",
    "print(final, problem.value(final), sep='\\t')"
   ]
  },
  {
   "cell_type": "code",
   "execution_count": null,
   "metadata": {},
   "outputs": [],
   "source": [
    "%%time\n",
    "solutions = {problem.value(simulated_annealing(problem)) for i in range(100)}\n",
    "print(solutions, max(solutions), sep='\\n')"
   ]
  },
  {
   "cell_type": "markdown",
   "metadata": {},
   "source": [
    "언덕 등반 탐색이 훨씬 속도가 빠름. 그러나...  \n",
    "숫자 배치를 다음과 같이 바꿔보자."
   ]
  },
  {
   "cell_type": "code",
   "execution_count": null,
   "metadata": {},
   "outputs": [],
   "source": [
    "grid = [[0, 0, 0, 1, 4], \n",
    "        [0, 0, 2, 8, 10], \n",
    "        [0, 0, 2, 4, 12], \n",
    "        [0, 2, 4, 8, 16], \n",
    "        [1, 4, 8, 16, 32]]"
   ]
  },
  {
   "cell_type": "code",
   "execution_count": null,
   "metadata": {},
   "outputs": [],
   "source": [
    "heatmap(grid, cmap='jet', interpolation='spline16')"
   ]
  },
  {
   "cell_type": "code",
   "execution_count": null,
   "metadata": {},
   "outputs": [],
   "source": [
    "problem = PeakFindingProblem(initial, grid, directions8)"
   ]
  },
  {
   "cell_type": "code",
   "execution_count": null,
   "metadata": {},
   "outputs": [],
   "source": [
    "solution = problem.value(hill_climbing(problem))\n",
    "solution"
   ]
  },
  {
   "cell_type": "code",
   "execution_count": null,
   "metadata": {},
   "outputs": [],
   "source": [
    "solution = problem.value(simulated_annealing(problem))\n",
    "solution"
   ]
  },
  {
   "cell_type": "code",
   "execution_count": null,
   "metadata": {},
   "outputs": [],
   "source": [
    "solutions = {problem.value(simulated_annealing(problem)) for i in range(100)}\n",
    "max(solutions)"
   ]
  },
  {
   "cell_type": "markdown",
   "metadata": {},
   "source": [
    "동일한 초기 상태에서 시작했지만, 언덕 등반 탐색은 local optimum에서 빠져 나오지 못해 해를 찾지 못했지만 simulated annealing은 해를 찾아낼 수 있었음."
   ]
  },
  {
   "cell_type": "markdown",
   "metadata": {},
   "source": [
    "### 8-퀸 문제"
   ]
  },
  {
   "cell_type": "markdown",
   "metadata": {},
   "source": [
    "8x8 체스판에 8개의 퀸을 서로 공격하지 않는 위치(가로/세로/대각선 방향으로 마주치지 않는 위치)에 배치하는 문제.  \n",
    "이 문제에서는 상태를 어떻게 표현해야 할까?  \n",
    "왼쪽부터 각 칼럼에 퀸을 하나씩 배치하도록 하고, 각 칼럼에서 퀸의 위치(행)를 숫자로 표현하면 숫자 8개로 8개의 퀸 배치를 표현할 수 있음.\n",
    "\n",
    "유전 알고리즘을 적용해보자.\n",
    "8-퀸 문제를 유전 알고리즘으로 해결하기 위해 각 개체는 8개의 유전자(길이가 8인 스트링)로 구성.\n",
    "각 유전자는 0~7 숫자(해당 칼럼의 퀸이 몇 번째 줄에 놓여 있는지를 표현함)."
   ]
  },
  {
   "cell_type": "code",
   "execution_count": null,
   "metadata": {
    "scrolled": true
   },
   "outputs": [],
   "source": [
    "# 100개의 초기 개체 생성\n",
    "population = init_population(100, range(8), 8)\n",
    "print(population[:5])"
   ]
  },
  {
   "cell_type": "code",
   "execution_count": null,
   "metadata": {},
   "outputs": [],
   "source": [
    "# 적응도 함수: 서로 공격하지 않는 위치의 퀸 쌍의 개수. 가능한 최고 점수 = 28.\n",
    "def fitness(q):\n",
    "    non_attacking = 0\n",
    "    for col1 in range(len(q)):\n",
    "        for col2 in range(col1+1, len(q)):\n",
    "            row1 = int(q[col1])\n",
    "            row2 = int(q[col2])\n",
    "            col_diff = col1 - col2\n",
    "            row_diff = row1 - row2\n",
    "\n",
    "            if row1 != row2 and col_diff != row_diff and col_diff != -row_diff:\n",
    "                non_attacking += 1\n",
    "\n",
    "    return non_attacking"
   ]
  },
  {
   "cell_type": "code",
   "execution_count": null,
   "metadata": {},
   "outputs": [],
   "source": [
    "solution = genetic_algorithm(population, fitness, f_thres=28, gene_pool=range(8))\n",
    "print(solution, fitness(solution), sep='\\n')"
   ]
  },
  {
   "cell_type": "code",
   "execution_count": null,
   "metadata": {},
   "outputs": [],
   "source": [
    "# N Queens 문제 시각화 함수\n",
    "def plot_NQueens(solution):\n",
    "    n = len(solution)\n",
    "    board = np.array([2 * int((i + j) % 2) for j in range(n) for i in range(n)]).reshape((n, n))\n",
    "    im = Image.open('queen_s.png')\n",
    "    height = im.size[1]\n",
    "    im = np.array(im).astype(float) / 255\n",
    "    fig = plt.figure(figsize=(7, 7))\n",
    "    ax = fig.add_subplot(111)\n",
    "    ax.set_title('{} Queens'.format(n))\n",
    "    plt.imshow(board, cmap='binary', interpolation='nearest')\n",
    "    # 해결책이 딕셔너리 구조이면\n",
    "    if isinstance(solution, dict):\n",
    "        for (k, v) in solution.items():\n",
    "            newax = fig.add_axes([0.064 + (k * 0.112), 0.062 + ((7 - v) * 0.112), 0.1, 0.1], zorder=1)\n",
    "            newax.imshow(im)\n",
    "            newax.axis('off')\n",
    "    # 해결책이 리스트이면\n",
    "    elif isinstance(solution, list):\n",
    "        for (k, v) in enumerate(solution):\n",
    "            newax = fig.add_axes([0.064 + (k * 0.112), 0.062 + ((7 - v) * 0.112), 0.1, 0.1], zorder=1)\n",
    "            newax.imshow(im)\n",
    "            newax.axis('off')\n",
    "    fig.tight_layout()\n",
    "    plt.show()"
   ]
  },
  {
   "cell_type": "code",
   "execution_count": null,
   "metadata": {
    "scrolled": true
   },
   "outputs": [],
   "source": [
    "plot_NQueens(solution)"
   ]
  },
  {
   "cell_type": "code",
   "execution_count": null,
   "metadata": {},
   "outputs": [],
   "source": []
  }
 ],
 "metadata": {
  "kernelspec": {
   "display_name": "Python 3 (ipykernel)",
   "language": "python",
   "name": "python3"
  },
  "language_info": {
   "codemirror_mode": {
    "name": "ipython",
    "version": 3
   },
   "file_extension": ".py",
   "mimetype": "text/x-python",
   "name": "python",
   "nbconvert_exporter": "python",
   "pygments_lexer": "ipython3",
   "version": "3.9.16"
  }
 },
 "nbformat": 4,
 "nbformat_minor": 4
}
