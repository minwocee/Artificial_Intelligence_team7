{
 "cells": [
  {
   "cell_type": "markdown",
   "metadata": {},
   "source": [
    "일차논리 KB 정의와 추론에 관련된 사항들. 코드는 GitHub aima-python의 코드를 기반으로 일부 수정한 것임."
   ]
  },
  {
   "cell_type": "code",
   "execution_count": 1,
   "metadata": {},
   "outputs": [],
   "source": [
    "# 논리 표현을 위한 기본 코드는 logic.py에 저장되어 있음.\n",
    "from logic import *\n",
    "import itertools"
   ]
  },
  {
   "cell_type": "markdown",
   "metadata": {},
   "source": [
    "# 지식베이스(Knowledge Base)"
   ]
  },
  {
   "cell_type": "code",
   "execution_count": 2,
   "metadata": {},
   "outputs": [],
   "source": [
    "class KB:\n",
    "    \"\"\"신규 문장을 추가(tell)하거나 알려진 것을 질의(ask)할 수 있는 지식베이스(knowledge base).\n",
    "    지식베이스를 생성하려면 이 클래스의 서브클래스로 정의하고 tell, ask_generator, retract 등을 구현하면 됨.\n",
    "    ask_generator는 문장이 참이 되도록 하는 대입들을 찾고, ask는 이 중 첫번째를 리턴하거나 False 리턴.\"\"\"\n",
    "\n",
    "    def __init__(self, sentence=None):\n",
    "        if sentence:\n",
    "            self.tell(sentence)\n",
    "\n",
    "    def tell(self, sentence):\n",
    "        \"\"\"지식베이스에 문장 추가\"\"\"\n",
    "        raise NotImplementedError\n",
    "\n",
    "    def ask(self, query):\n",
    "        \"\"\"query를 참이 되게 하는 (첫번째) 대입을 리턴함. 없으면 False 리턴.\"\"\"\n",
    "        return first(self.ask_generator(query), default=False)\n",
    "\n",
    "    def ask_generator(self, query):\n",
    "        \"\"\"query가 참이 되는 모든 대입들을 생성\"\"\"\n",
    "        raise NotImplementedError\n",
    "\n",
    "    def retract(self, sentence):\n",
    "        \"\"\"지식베이스에서 문장 삭제\"\"\"\n",
    "        raise NotImplementedError"
   ]
  },
  {
   "cell_type": "code",
   "execution_count": 3,
   "metadata": {},
   "outputs": [],
   "source": [
    "class FolKB(KB):\n",
    "    \"\"\"일차논리 한정 절(definite clause)로 구성된 지식베이스.\n",
    "    >>> kb0 = FolKB([expr('Farmer(Mac)'), expr('Rabbit(Pete)'),\n",
    "    ...              expr('(Rabbit(r) & Farmer(f)) ==> Hates(f, r)')])\n",
    "    >>> kb0.tell(expr('Rabbit(Flopsie)'))\n",
    "    >>> kb0.retract(expr('Rabbit(Pete)'))\n",
    "    >>> kb0.ask(expr('Hates(Mac, x)'))[x]\n",
    "    Flopsie\n",
    "    >>> kb0.ask(expr('Wife(Pete, x)'))\n",
    "    False\n",
    "    \"\"\"\n",
    "\n",
    "    def __init__(self, clauses=None):\n",
    "        super().__init__()\n",
    "        self.clauses = []\n",
    "        if clauses:\n",
    "            for clause in clauses:\n",
    "                self.tell(clause)\n",
    "\n",
    "    def tell(self, sentence):\n",
    "        if is_definite_clause(sentence):\n",
    "            self.clauses.append(sentence)\n",
    "        else:\n",
    "            raise Exception(f'Not a definite clause: {sentence}')\n",
    "\n",
    "    def ask_generator(self, query):\n",
    "        return fol_bc_ask(self, query)\n",
    "\n",
    "    def retract(self, sentence):\n",
    "        self.clauses.remove(sentence)\n",
    "\n",
    "    def fetch_rules_for_goal(self, goal):\n",
    "        return self.clauses\n",
    "\n",
    "\n",
    "def is_definite_clause(s):\n",
    "    \"\"\"Expr s가 한정 절이면 True를 리턴함.\n",
    "    A & B & ... & C ==> D  (모두 양 리터럴)\n",
    "    절 형식으로 표현하면,\n",
    "    ~A | ~B | ... | ~C | D   (하나의 양 리터럴을 갖는 절)\n",
    "    >>> is_definite_clause(expr('Farmer(Mac)'))\n",
    "    True\n",
    "    \"\"\"\n",
    "    if is_symbol(s.op):\n",
    "        return True\n",
    "    elif s.op == '==>':\n",
    "        antecedent, consequent = s.args\n",
    "        return is_symbol(consequent.op) and all(is_symbol(arg.op) for arg in conjuncts(antecedent))\n",
    "    else:\n",
    "        return False\n",
    "\n",
    "def parse_definite_clause(s):\n",
    "    \"\"\"한정 절의 전제와 결론을 리턴\"\"\"\n",
    "    assert is_definite_clause(s)\n",
    "    if is_symbol(s.op):\n",
    "        return [], s\n",
    "    else:\n",
    "        antecedent, consequent = s.args\n",
    "        return conjuncts(antecedent), consequent\n",
    "\n",
    "def conjuncts(s):\n",
    "    \"\"\"문장 s를 논리곱으로 해석 했을 때의 구성요소를 리스트로 리턴함.\n",
    "    >>> conjuncts(A & B)\n",
    "    [A, B]\n",
    "    >>> conjuncts(A | B)\n",
    "    [(A | B)]\n",
    "    \"\"\"\n",
    "    return dissociate('&', [s])\n",
    "\n",
    "def disjuncts(s):\n",
    "    \"\"\"문장 s를 논리합으로 해석했을 때의 구성요소를 리스트로 리턴함.\n",
    "    >>> disjuncts(A | B)\n",
    "    [A, B]\n",
    "    >>> disjuncts(A & B)\n",
    "    [(A & B)]\n",
    "    \"\"\"\n",
    "    return dissociate('|', [s])\n",
    "\n",
    "def dissociate(op, args):\n",
    "    \"\"\"op를 기준으로 인자들의 리스트를 리턴.\n",
    "    >>> dissociate('&', [A & B])\n",
    "    [A, B]\n",
    "    \"\"\"\n",
    "    result = []\n",
    "\n",
    "    def collect(subargs):\n",
    "        for arg in subargs:\n",
    "            if arg.op == op:\n",
    "                collect(arg.args)\n",
    "            else:\n",
    "                result.append(arg)\n",
    "\n",
    "    collect(args)\n",
    "    return result"
   ]
  },
  {
   "cell_type": "markdown",
   "metadata": {},
   "source": [
    "## 범죄 KB"
   ]
  },
  {
   "cell_type": "code",
   "execution_count": 4,
   "metadata": {},
   "outputs": [],
   "source": [
    "clauses = []\n",
    "clauses.append(expr(\"(미국인(x) & 무기(y) & 팔다(x, y, z) & 적대(z)) ==> 범죄(x)\"))\n",
    "clauses.append(expr(\"적(Nono, 미국인)\"))\n",
    "clauses.append(expr(\"보유하다(Nono, M1)\"))\n",
    "clauses.append(expr(\"미사일(M1)\"))\n",
    "clauses.append(expr(\"(미사일(x) & 보유하다(Nono, x)) ==> 팔다(West, x, Nono)\"))\n",
    "clauses.append(expr(\"미국인(West)\"))\n",
    "clauses.append(expr(\"미사일(x) ==> 무기(x)\"))\n",
    "clauses.append(expr(\"적(x, America) ==> 적대(x)\"))\n",
    "crime_kb = FolKB(clauses)"
   ]
  },
  {
   "cell_type": "code",
   "execution_count": 5,
   "metadata": {},
   "outputs": [
    {
     "data": {
      "text/plain": [
       "[((((미국인(x) & 무기(y)) & 팔다(x, y, z)) & 적대(z)) ==> 범죄(x)),\n",
       " 적(Nono, 미국인),\n",
       " 보유하다(Nono, M1),\n",
       " 미사일(M1),\n",
       " ((미사일(x) & 보유하다(Nono, x)) ==> 팔다(West, x, Nono)),\n",
       " 미국인(West),\n",
       " (미사일(x) ==> 무기(x)),\n",
       " (적(x, America) ==> 적대(x))]"
      ]
     },
     "execution_count": 5,
     "metadata": {},
     "output_type": "execute_result"
    }
   ],
   "source": [
    "crime_kb.clauses"
   ]
  },
  {
   "cell_type": "markdown",
   "metadata": {},
   "source": [
    "# 순방향 연쇄(Forward Chaining)"
   ]
  },
  {
   "cell_type": "code",
   "execution_count": 6,
   "metadata": {},
   "outputs": [],
   "source": [
    "def fol_fc_ask(kb, alpha):\n",
    "    \"\"\"순방향 연쇄(forward chaining) 알고리즘\"\"\"\n",
    "    kb_consts = list({c for clause in kb.clauses for c in constant_symbols(clause)})\n",
    "\n",
    "    def enum_subst(p):\n",
    "        query_vars = list({v for clause in p for v in variables(clause)})\n",
    "        for assignment_list in itertools.product(kb_consts, repeat=len(query_vars)):\n",
    "            theta = {x: y for x, y in zip(query_vars, assignment_list)}\n",
    "            yield theta\n",
    "\n",
    "    # 새로운 추론 없이도 답변할 수 있는지 체크\n",
    "    for q in kb.clauses:\n",
    "        phi = unify_mm(q, alpha)\n",
    "        if phi is not None:\n",
    "            yield phi\n",
    "\n",
    "    while True:\n",
    "        new = []\n",
    "        for rule in kb.clauses:\n",
    "            p, q = parse_definite_clause(rule)\n",
    "            for theta in enum_subst(p):\n",
    "                if set(subst(theta, p)).issubset(set(kb.clauses)):\n",
    "                    q_ = subst(theta, q)\n",
    "                    if all([unify_mm(x, q_) is None for x in kb.clauses + new]):\n",
    "                        new.append(q_)\n",
    "                        phi = unify_mm(q_, alpha)\n",
    "                        if phi is not None:\n",
    "                            yield phi\n",
    "        if not new:\n",
    "            break\n",
    "        for clause in new:\n",
    "            kb.tell(clause)\n",
    "    return None\n",
    "\n",
    "\n",
    "def unify_mm(x, y, s={}):\n",
    "    \"\"\"단일화. 규칙 기반으로 효율성을 개선한 알고리즘(Martelli & Montanari).\n",
    "    >>> unify_mm(x, 3, {})\n",
    "    {x: 3}\n",
    "    \"\"\"\n",
    "    set_eq = extend(s, x, y)\n",
    "    s = set_eq.copy()\n",
    "    while True:\n",
    "        trans = 0\n",
    "        for x, y in set_eq.items():\n",
    "            if x == y:\n",
    "                # if x = y this mapping is deleted (rule b)\n",
    "                del s[x]\n",
    "            elif not is_variable(x) and is_variable(y):\n",
    "                # if x is not a variable and y is a variable, rewrite it as y = x in s (rule a)\n",
    "                if s.get(y, None) is None:\n",
    "                    s[y] = x\n",
    "                    del s[x]\n",
    "                else:\n",
    "                    # if a mapping already exist for variable y then apply\n",
    "                    # variable elimination (there is a chance to apply rule d)\n",
    "                    s[x] = vars_elimination(y, s)\n",
    "            elif not is_variable(x) and not is_variable(y):\n",
    "                # in which case x and y are not variables, if the two root function symbols\n",
    "                # are different, stop with failure, else apply term reduction (rule c)\n",
    "                if x.op is y.op and len(x.args) == len(y.args):\n",
    "                    term_reduction(x, y, s)\n",
    "                    del s[x]\n",
    "                else:\n",
    "                    return None\n",
    "            elif isinstance(y, Expr):\n",
    "                # in which case x is a variable and y is a function or a variable (e.g. F(z) or y),\n",
    "                # if y is a function, we must check if x occurs in y, then stop with failure, else\n",
    "                # try to apply variable elimination to y (rule d)\n",
    "                if occur_check(x, y, s):\n",
    "                    return None\n",
    "                s[x] = vars_elimination(y, s)\n",
    "                if y == s.get(x):\n",
    "                    trans += 1\n",
    "            else:\n",
    "                trans += 1\n",
    "        if trans == len(set_eq):\n",
    "            # if no transformation has been applied, stop with success\n",
    "            return s\n",
    "        set_eq = s.copy()\n",
    "\n",
    "def term_reduction(x, y, s):\n",
    "    \"\"\"x, y가 모두 함수이고 함수 기호가 동일한 경우 항 축소(term reduction)를 적용.\n",
    "    예: x = F(x1, x2, ..., xn), y = F(x1', x2', ..., xn')\n",
    "    x: y를 {x1: x1', x2: x2', ..., xn: xn'}로 대체한 새로운 매핑을 리턴.\n",
    "    \"\"\"\n",
    "    for i in range(len(x.args)):\n",
    "        if x.args[i] in s:\n",
    "            s[s.get(x.args[i])] = y.args[i]\n",
    "        else:\n",
    "            s[x.args[i]] = y.args[i]\n",
    "\n",
    "def vars_elimination(x, s):\n",
    "    \"\"\"변수 제거를 x에 적용함.\n",
    "    x가 변수이고 s에 등장하면, x에 매핑된 항을 리턴함.\n",
    "    x가 함수이면 함수의 각 항에 순환적으로 적용함.\"\"\"\n",
    "    if not isinstance(x, Expr):\n",
    "        return x\n",
    "    if is_variable(x):\n",
    "        return s.get(x, x)\n",
    "    return Expr(x.op, *[vars_elimination(arg, s) for arg in x.args])"
   ]
  },
  {
   "cell_type": "code",
   "execution_count": 7,
   "metadata": {},
   "outputs": [
    {
     "data": {
      "text/plain": [
       "<generator object fol_fc_ask at 0x000001DA048BF4C0>"
      ]
     },
     "execution_count": 7,
     "metadata": {},
     "output_type": "execute_result"
    }
   ],
   "source": [
    "# 적대국가는?\n",
    "answer = fol_fc_ask(crime_kb, expr('적대(x)'))\n",
    "answer"
   ]
  },
  {
   "cell_type": "code",
   "execution_count": 8,
   "metadata": {},
   "outputs": [
    {
     "name": "stdout",
     "output_type": "stream",
     "text": [
      "[]\n"
     ]
    }
   ],
   "source": [
    "print(list(answer))"
   ]
  },
  {
   "cell_type": "code",
   "execution_count": 9,
   "metadata": {},
   "outputs": [
    {
     "data": {
      "text/plain": [
       "[((((미국인(x) & 무기(y)) & 팔다(x, y, z)) & 적대(z)) ==> 범죄(x)),\n",
       " 적(Nono, 미국인),\n",
       " 보유하다(Nono, M1),\n",
       " 미사일(M1),\n",
       " ((미사일(x) & 보유하다(Nono, x)) ==> 팔다(West, x, Nono)),\n",
       " 미국인(West),\n",
       " (미사일(x) ==> 무기(x)),\n",
       " (적(x, America) ==> 적대(x)),\n",
       " 팔다(West, M1, Nono),\n",
       " 무기(M1),\n",
       " Enemy(JaJa, America)]"
      ]
     },
     "execution_count": 9,
     "metadata": {},
     "output_type": "execute_result"
    }
   ],
   "source": [
    "crime_kb.tell(expr('Enemy(JaJa, America)'))\n",
    "crime_kb.clauses"
   ]
  },
  {
   "cell_type": "code",
   "execution_count": 10,
   "metadata": {},
   "outputs": [
    {
     "name": "stdout",
     "output_type": "stream",
     "text": [
      "[]\n"
     ]
    }
   ],
   "source": [
    "answer = fol_fc_ask(crime_kb, expr('Hostile(x)'))\n",
    "print(list(answer))"
   ]
  },
  {
   "cell_type": "code",
   "execution_count": 11,
   "metadata": {},
   "outputs": [
    {
     "data": {
      "text/plain": [
       "[]"
      ]
     },
     "execution_count": 11,
     "metadata": {},
     "output_type": "execute_result"
    }
   ],
   "source": [
    "answer = fol_fc_ask(crime_kb, expr('Hostile(x)'))\n",
    "[s[expr('x')] for s in answer]"
   ]
  },
  {
   "cell_type": "code",
   "execution_count": 12,
   "metadata": {},
   "outputs": [
    {
     "data": {
      "text/plain": [
       "[((((미국인(x) & 무기(y)) & 팔다(x, y, z)) & 적대(z)) ==> 범죄(x)),\n",
       " 적(Nono, 미국인),\n",
       " 보유하다(Nono, M1),\n",
       " 미사일(M1),\n",
       " ((미사일(x) & 보유하다(Nono, x)) ==> 팔다(West, x, Nono)),\n",
       " 미국인(West),\n",
       " (미사일(x) ==> 무기(x)),\n",
       " (적(x, America) ==> 적대(x)),\n",
       " 팔다(West, M1, Nono),\n",
       " 무기(M1),\n",
       " Enemy(JaJa, America)]"
      ]
     },
     "execution_count": 12,
     "metadata": {},
     "output_type": "execute_result"
    }
   ],
   "source": [
    "# 순방향 연쇄의 추론 결과 문장이 KB에 추가됨\n",
    "crime_kb.clauses"
   ]
  },
  {
   "cell_type": "markdown",
   "metadata": {},
   "source": [
    "# 역방향 연쇄(Backward Chaining)"
   ]
  },
  {
   "cell_type": "code",
   "execution_count": 13,
   "metadata": {},
   "outputs": [],
   "source": [
    "def fol_bc_ask(kb, query):\n",
    "    \"\"\"역방향 연쇄(backward chaining) 알고리즘.\n",
    "    kb는 FolKB 인스턴스이어야 하고, query는 기본 문장이어야 함.\n",
    "    \"\"\"\n",
    "    return fol_bc_or(kb, query, {})\n",
    "\n",
    "def fol_bc_or(kb, goal, theta):\n",
    "    for rule in kb.fetch_rules_for_goal(goal):\n",
    "        lhs, rhs = parse_definite_clause(standardize_variables(rule))\n",
    "        for theta1 in fol_bc_and(kb, lhs, unify_mm(rhs, goal, theta)):\n",
    "            yield theta1\n",
    "\n",
    "\n",
    "def fol_bc_and(kb, goals, theta):\n",
    "    if theta is None:\n",
    "        pass\n",
    "    elif not goals:\n",
    "        yield theta\n",
    "    else:\n",
    "        first, rest = goals[0], goals[1:]\n",
    "        for theta1 in fol_bc_or(kb, subst(theta, first), theta):\n",
    "            for theta2 in fol_bc_and(kb, rest, theta1):\n",
    "                yield theta2\n",
    "\n",
    "def standardize_variables(sentence, dic=None):\n",
    "    \"\"\"변수 표준화: 문장의 모든 변수를 새로운 변수로 바꿈.\"\"\"\n",
    "    if dic is None:\n",
    "        dic = {}\n",
    "    if not isinstance(sentence, Expr):\n",
    "        return sentence\n",
    "    elif is_var_symbol(sentence.op):\n",
    "        if sentence in dic:\n",
    "            return dic[sentence]\n",
    "        else:\n",
    "            v = Expr('v_{}'.format(next(standardize_variables.counter)))\n",
    "            dic[sentence] = v\n",
    "            return v\n",
    "    else:\n",
    "        return Expr(sentence.op, *[standardize_variables(a, dic) for a in sentence.args])\n",
    "\n",
    "\n",
    "standardize_variables.counter = itertools.count()"
   ]
  },
  {
   "cell_type": "code",
   "execution_count": 14,
   "metadata": {},
   "outputs": [],
   "source": [
    "# fol_fc_ask로 KB가 수정되었으니 다시 초기화\n",
    "crime_kb = FolKB(clauses)"
   ]
  },
  {
   "cell_type": "code",
   "execution_count": 15,
   "metadata": {},
   "outputs": [
    {
     "data": {
      "text/plain": [
       "False"
      ]
     },
     "execution_count": 15,
     "metadata": {},
     "output_type": "execute_result"
    }
   ],
   "source": [
    "# FolKB.ask는 fol_bc_ask를 호출함\n",
    "crime_kb.ask(expr('Hostile(x)'))"
   ]
  },
  {
   "cell_type": "markdown",
   "metadata": {},
   "source": [
    "단일화 과정에서 변수 표준화가 수행되어, 리턴된 대입에 새로운 변수가 존재할 수 있음."
   ]
  },
  {
   "cell_type": "code",
   "execution_count": 16,
   "metadata": {
    "scrolled": true
   },
   "outputs": [
    {
     "data": {
      "text/plain": [
       "[((((미국인(x) & 무기(y)) & 팔다(x, y, z)) & 적대(z)) ==> 범죄(x)),\n",
       " 적(Nono, 미국인),\n",
       " 보유하다(Nono, M1),\n",
       " 미사일(M1),\n",
       " ((미사일(x) & 보유하다(Nono, x)) ==> 팔다(West, x, Nono)),\n",
       " 미국인(West),\n",
       " (미사일(x) ==> 무기(x)),\n",
       " (적(x, America) ==> 적대(x))]"
      ]
     },
     "execution_count": 16,
     "metadata": {},
     "output_type": "execute_result"
    }
   ],
   "source": [
    "# 역방향 추론 과정에서는 KB가 수정되지는 않음\n",
    "crime_kb.clauses"
   ]
  },
  {
   "cell_type": "code",
   "execution_count": null,
   "metadata": {},
   "outputs": [],
   "source": []
  }
 ],
 "metadata": {
  "kernelspec": {
   "display_name": "Python 3",
   "language": "python",
   "name": "python3"
  },
  "language_info": {
   "codemirror_mode": {
    "name": "ipython",
    "version": 3
   },
   "file_extension": ".py",
   "mimetype": "text/x-python",
   "name": "python",
   "nbconvert_exporter": "python",
   "pygments_lexer": "ipython3",
   "version": "3.11.1 (tags/v3.11.1:a7a450f, Dec  6 2022, 19:58:39) [MSC v.1934 64 bit (AMD64)]"
  },
  "vscode": {
   "interpreter": {
    "hash": "045e4db5da8b967fe9357b3f1c985609572601dfa03a7721cf01075ac1df2eb3"
   }
  }
 },
 "nbformat": 4,
 "nbformat_minor": 4
}
