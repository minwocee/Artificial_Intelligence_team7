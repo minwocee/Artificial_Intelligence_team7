{
 "cells": [
  {
   "cell_type": "markdown",
   "id": "65f00672",
   "metadata": {},
   "source": [
    "베이즈 네트워크 기본. 여기 제공하는 코드는 GitHub aima-python의 코드를 기반으로 일부 수정한 것임."
   ]
  },
  {
   "cell_type": "code",
   "execution_count": 1,
   "id": "1f178411",
   "metadata": {},
   "outputs": [],
   "source": [
    "# 확률적 추론에 대한 기본 코드를 probability.py에 저장해뒀음.\n",
    "from probability import *\n",
    "import random\n",
    "from functools import reduce"
   ]
  },
  {
   "cell_type": "markdown",
   "id": "69704df7",
   "metadata": {},
   "source": [
    "## 베이즈 네트워크 정의"
   ]
  },
  {
   "cell_type": "code",
   "execution_count": 2,
   "id": "3cc56891",
   "metadata": {},
   "outputs": [],
   "source": [
    "class BayesNet:\n",
    "    \"\"\"베이즈 네트워크 클래스. 불리언 변수로만 구성된 버전\"\"\"\n",
    "\n",
    "    def __init__(self, node_specs=None):\n",
    "        \"\"\"node_specs: 노드(BayesNode) 리스트. 노드의 순서는 부모가 자식보다 앞쪽에 위치하도록 정렬되어야 함.\n",
    "        이 리스트의 각 원소는 BayesNode 생성에 필요한 (X, parents, cpt) 튜플로 구성됨.\"\"\"\n",
    "        self.nodes = []\n",
    "        self.variables = []\n",
    "        node_specs = node_specs or []\n",
    "        for node_spec in node_specs:\n",
    "            self.add(node_spec)\n",
    "\n",
    "    def add(self, node_spec):\n",
    "        \"\"\"네트워크에 노드 추가.\n",
    "        추가하는 노드의 부모가 이미 네트워크에 존재해야 하며,\n",
    "        추가하는 노드의 변수는 네트워크에 존재하지 않아야 함.\"\"\"\n",
    "        node = BayesNode(*node_spec)\n",
    "        assert node.variable not in self.variables\n",
    "        assert all((parent in self.variables) for parent in node.parents)\n",
    "        self.nodes.append(node)\n",
    "        self.variables.append(node.variable)\n",
    "        for parent in node.parents:\n",
    "            self.variable_node(parent).children.append(node)\n",
    "\n",
    "    def variable_node(self, var):\n",
    "        \"\"\"var에 해당하는 변수의 노드를 리턴함.\"\"\"\n",
    "        for n in self.nodes:\n",
    "            if n.variable == var:\n",
    "                return n\n",
    "        raise Exception(\"No such variable: {}\".format(var))\n",
    "\n",
    "    def variable_values(self, var):\n",
    "        \"\"\"var의 도메인을 리턴함.\"\"\"\n",
    "        return [True, False]\n",
    "\n",
    "    def __repr__(self):\n",
    "        return 'BayesNet({0!r})'.format(self.nodes)"
   ]
  },
  {
   "cell_type": "code",
   "execution_count": 3,
   "id": "561174d4",
   "metadata": {},
   "outputs": [],
   "source": [
    "class BayesNode:\n",
    "    \"\"\"베이즈 네트워크의 노드 클래스.\n",
    "    불리언 변수에 대한 조건부 확률 분포 P(X | parents).\"\"\"\n",
    "\n",
    "    def __init__(self, X, parents, cpt):\n",
    "        \"\"\"X: 변수명,\n",
    "        parents: 변수명 시퀀스 또는 공백으로 구분된 문자열\n",
    "        cpt: 조건부 확률표. 다음 중 하나의 형태:\n",
    "\n",
    "        * 숫자. 무조건부 확률 P(X=true). 부모가 없는 변수인 경우.\n",
    "\n",
    "        * {v: p, ...} 형식의 딕셔너리. 조건부 확률 분포 P(X=true | parent=v) = p.\n",
    "          부모가 하나뿐인 경우.\n",
    "\n",
    "        * {(v1, v2, ...): p, ...} 형식의 딕셔너리. 조건부 확률 분포 P(X=true | parent1=v1, parent2=v2, ...) = p.\n",
    "          딕셔너리의 키는 부모 개수 만큼의 값을 가져야 함. 가장 일반적인 형태.\n",
    "          내부적으로는 이런 형식으로 값이 저장됨.\n",
    "          \n",
    "        P(X=true)를 이용하여 P(X=false)는 계산할 수 있으므로, cpt에는 거짓일 확률은 명시하지 않음.\n",
    "        \"\"\"\n",
    "        if isinstance(parents, str):\n",
    "            parents = parents.split()\n",
    "\n",
    "        # cpt는 항상 {(v1, v2, ...): p, ...} 형식의 딕셔너리로 저장\n",
    "        if isinstance(cpt, (float, int)):  # 부모 없음. 0-튜플\n",
    "            cpt = {(): cpt}\n",
    "        elif isinstance(cpt, dict):\n",
    "            # 부모 하나. 1-튜플\n",
    "            if cpt and isinstance(list(cpt.keys())[0], bool):\n",
    "                cpt = {(v,): p for v, p in cpt.items()}\n",
    "\n",
    "        assert isinstance(cpt, dict)\n",
    "        for vs, p in cpt.items():\n",
    "            assert isinstance(vs, tuple) and len(vs) == len(parents)\n",
    "            assert all(isinstance(v, bool) for v in vs)\n",
    "            assert 0 <= p <= 1\n",
    "\n",
    "        self.variable = X\n",
    "        self.parents = parents\n",
    "        self.cpt = cpt\n",
    "        self.children = []\n",
    "\n",
    "    def p(self, value, event):\n",
    "        \"\"\"조건부 확률 P(X=value | parents=parent_values) 리턴\n",
    "        parent_values: event에 있는 부모의 값들. event는 각 부모에 하나의 값을 배정해야 함.\n",
    "        >>> bn = BayesNode('X', 'Burglary', {T: 0.2, F: 0.625})\n",
    "        >>> bn.p(False, {'Burglary': False, 'Earthquake': True})\n",
    "        0.375\"\"\"\n",
    "        assert isinstance(value, bool)\n",
    "        ptrue = self.cpt[event_values(event, self.parents)]\n",
    "        return ptrue if value else 1 - ptrue\n",
    "\n",
    "    def sample(self, event):\n",
    "        \"\"\"event의 부모 변수 값이 주어졌을 때 노드 변수의 조건부 확률 분포로부터 샘플링.\n",
    "        조건부 확률에 따라 True/False를 무작위로 리턴\"\"\"\n",
    "        return probability(self.p(True, event))\n",
    "\n",
    "    def __repr__(self):\n",
    "        return repr((self.variable, ' '.join(self.parents)))\n",
    "\n",
    "\n",
    "def probability(p):\n",
    "    \"\"\"확률 p에 따라 True를 리턴함\"\"\"\n",
    "    return p > random.uniform(0.0, 1.0)"
   ]
  },
  {
   "cell_type": "markdown",
   "id": "8e23ddfe",
   "metadata": {},
   "source": [
    "## 정확 추론(Exact Inference)"
   ]
  },
  {
   "cell_type": "code",
   "execution_count": 4,
   "id": "d91df5fb",
   "metadata": {},
   "outputs": [],
   "source": [
    "# 열거\n",
    "def enumeration_ask(X, e, bn):\n",
    "    \"\"\"베이즈 네트워크 bn에 대해, 증거 e(딕셔너리)가 주어졌을 때 변수 X의 조건부 확률을 리턴함.\"\"\"\n",
    "    assert X not in e, \"Query variable must be distinct from evidence\"\n",
    "    Q = ProbDist(X)\n",
    "    for xi in bn.variable_values(X):\n",
    "        Q[xi] = enumerate_all(bn.variables, extend(e, X, xi), bn)\n",
    "    return Q.normalize()\n",
    "\n",
    "\n",
    "def enumerate_all(variables, e, bn):\n",
    "    \"\"\"증거 e와 일관된 P(variables | e{others})의 합을 리턴함.\n",
    "    P: 베이즈 네트워크 bn으로 표현되는 결합 확률 분포,\n",
    "    e{others}: bn에서 variables를 제외한 다른 변수들로 제한된 증거.\n",
    "    variables에서 부모는 자식들보다 앞에 위치해야 함.\"\"\"\n",
    "    if not variables:\n",
    "        return 1.0\n",
    "    Y, rest = variables[0], variables[1:]\n",
    "    Ynode = bn.variable_node(Y)\n",
    "    if Y in e:\n",
    "        return Ynode.p(e[Y], e) * enumerate_all(rest, e, bn)\n",
    "    else:\n",
    "        return sum(Ynode.p(y, e) * enumerate_all(rest, extend(e, Y, y), bn)\n",
    "                   for y in bn.variable_values(Y))"
   ]
  },
  {
   "cell_type": "code",
   "execution_count": 5,
   "id": "bef79de0",
   "metadata": {},
   "outputs": [],
   "source": [
    "# 변수 소거 알고리즘\n",
    "def elimination_ask(X, e, bn):\n",
    "    \"\"\"변수 소거를 통해 베이즈 네트워크 bn의 P(X|e)를 계산함. e: 딕셔너리\"\"\"\n",
    "    assert X not in e, \"Query variable must be distinct from evidence\"\n",
    "    factors = []\n",
    "    for var in reversed(bn.variables):\n",
    "        factors.append(make_factor(var, e, bn))\n",
    "        if is_hidden(var, X, e):\n",
    "            factors = sum_out(var, factors, bn)\n",
    "    return pointwise_product(factors, bn).normalize()\n",
    "\n",
    "\n",
    "def is_hidden(var, X, e):\n",
    "    \"\"\"P(X|e)를 질의할 때 var이 미관측 변수인가?\"\"\"\n",
    "    return var != X and var not in e\n",
    "\n",
    "\n",
    "def make_factor(var, e, bn):\n",
    "    \"\"\"e가 주어졌을 때 bn의 결합 확률 분포에서 var에 대한 인수를 리턴함.\n",
    "    bn의 완전 결합 확률 분포는 bn 변수들에 대한 이 인수들의 성분별 곱(pointwise product)임.\"\"\"\n",
    "    node = bn.variable_node(var)\n",
    "    variables = [X for X in [var] + node.parents if X not in e]\n",
    "    cpt = {event_values(e1, variables): node.p(e1[var], e1)\n",
    "           for e1 in all_events(variables, bn, e)}\n",
    "    return Factor(variables, cpt)\n",
    "\n",
    "\n",
    "def pointwise_product(factors, bn):\n",
    "    return reduce(lambda f, g: f.pointwise_product(g, bn), factors)\n",
    "\n",
    "\n",
    "def sum_out(var, factors, bn):\n",
    "    \"\"\"값들에 대해 합산함으로써 모든 인수들에서 var를 삭제함.\"\"\"\n",
    "    result, var_factors = [], []\n",
    "    for f in factors:\n",
    "        (var_factors if var in f.variables else result).append(f)\n",
    "    result.append(pointwise_product(var_factors, bn).sum_out(var, bn))\n",
    "    return result\n",
    "\n",
    "\n",
    "class Factor:\n",
    "    \"\"\"결합 확률 분포의 한 인수\"\"\"\n",
    "\n",
    "    def __init__(self, variables, cpt):\n",
    "        self.variables = variables\n",
    "        self.cpt = cpt\n",
    "\n",
    "    def pointwise_product(self, other, bn):\n",
    "        \"\"\"두 인수의 성분별 곱 계산. 변수들은 합집합이 됨.\"\"\"\n",
    "        variables = list(set(self.variables) | set(other.variables))\n",
    "        cpt = {event_values(e, variables): self.p(e) * other.p(e) for e in all_events(variables, bn, {})}\n",
    "        return Factor(variables, cpt)\n",
    "\n",
    "    def sum_out(self, var, bn):\n",
    "        \"\"\"값들에 대해 합산함으로써 var를 삭제하여 인수를 생성함.\"\"\"\n",
    "        variables = [X for X in self.variables if X != var]\n",
    "        cpt = {event_values(e, variables): sum(self.p(extend(e, var, val)) for val in bn.variable_values(var))\n",
    "               for e in all_events(variables, bn, {})}\n",
    "        return Factor(variables, cpt)\n",
    "\n",
    "    def normalize(self):\n",
    "        \"\"\"확률값 리턴. 하나의 변수여야 함.\"\"\"\n",
    "        assert len(self.variables) == 1\n",
    "        return ProbDist(self.variables[0], {k: v for ((k,), v) in self.cpt.items()})\n",
    "\n",
    "    def p(self, e):\n",
    "        \"\"\"e에 대한 조건부 확률표 조회\"\"\"\n",
    "        return self.cpt[event_values(e, self.variables)]\n",
    "\n",
    "\n",
    "def all_events(variables, bn, e):\n",
    "    \"\"\"모든 변수들에 대한 값으로 e를 확장하여 yield.\"\"\"\n",
    "    if not variables:\n",
    "        yield e\n",
    "    else:\n",
    "        X, rest = variables[0], variables[1:]\n",
    "        for e1 in all_events(rest, bn, e):\n",
    "            for x in bn.variable_values(X):\n",
    "                yield extend(e1, X, x)\n",
    "\n",
    "\n",
    "def extend(s, var, val):\n",
    "    \"\"\"딕셔너리 s를 복사하고 var에 값 val을 세팅하여 확장하여 그 복사본을 리턴함.\"\"\"\n",
    "    return {**s, var: val}"
   ]
  },
  {
   "cell_type": "markdown",
   "id": "be1928ad",
   "metadata": {},
   "source": [
    "## 이용 예: 침입 경보 베이즈 네트워크"
   ]
  },
  {
   "cell_type": "code",
   "execution_count": 6,
   "id": "bb529df3",
   "metadata": {},
   "outputs": [],
   "source": [
    "alarm_node = BayesNode('Alarm', ['Burglary', 'Earthquake'], \n",
    "                       {(True, True): 0.95,(True, False): 0.94, (False, True): 0.29, (False, False): 0.001})"
   ]
  },
  {
   "cell_type": "code",
   "execution_count": 7,
   "id": "8ec7380f",
   "metadata": {},
   "outputs": [],
   "source": [
    "# 부모와 조건부 확률표를 설정하는 방법을 다양하게 허용함\n",
    "john_node = BayesNode('JohnCalls', ['Alarm'], {True: 0.90, False: 0.05})\n",
    "mary_node = BayesNode('MaryCalls', 'Alarm', {(True, ): 0.70, (False, ): 0.01})"
   ]
  },
  {
   "cell_type": "code",
   "execution_count": 8,
   "id": "ffca4c0e",
   "metadata": {},
   "outputs": [],
   "source": [
    "# 부모가 없는 노드\n",
    "burglary_node = BayesNode('Burglary', '', 0.001)\n",
    "earthquake_node = BayesNode('Earthquake', '', 0.002)"
   ]
  },
  {
   "cell_type": "code",
   "execution_count": 9,
   "id": "76ccdda8",
   "metadata": {},
   "outputs": [
    {
     "data": {
      "text/plain": [
       "0.09999999999999998"
      ]
     },
     "execution_count": 9,
     "metadata": {},
     "output_type": "execute_result"
    }
   ],
   "source": [
    "# 노드에 연관된 조건부 확률값 조회\n",
    "john_node.p(False, {'Alarm': True}) # P(JohnCalls=False | Alarm=True)"
   ]
  },
  {
   "cell_type": "code",
   "execution_count": 10,
   "id": "985589f3",
   "metadata": {},
   "outputs": [
    {
     "data": {
      "text/plain": [
       "BayesNet([('Burglary', ''), ('Earthquake', ''), ('Alarm', 'Burglary Earthquake'), ('JohnCalls', 'Alarm'), ('MaryCalls', 'Alarm')])"
      ]
     },
     "execution_count": 10,
     "metadata": {},
     "output_type": "execute_result"
    }
   ],
   "source": [
    "# BayesNet 생성자를 통해 노드와 베이즈 네트워크를 한번에 생성할 수 있음\n",
    "T, F = True, False\n",
    "\n",
    "burglary = BayesNet([\n",
    "    ('Burglary', '', 0.001),\n",
    "    ('Earthquake', '', 0.002),\n",
    "    ('Alarm', 'Burglary Earthquake', {(T, T): 0.95, (T, F): 0.94, (F, T): 0.29, (F, F): 0.001}),\n",
    "    ('JohnCalls', 'Alarm', {T: 0.90, F: 0.05}),\n",
    "    ('MaryCalls', 'Alarm', {T: 0.70, F: 0.01})\n",
    "])\n",
    "burglary"
   ]
  },
  {
   "cell_type": "code",
   "execution_count": 11,
   "id": "35ba232e",
   "metadata": {},
   "outputs": [
    {
     "data": {
      "text/plain": [
       "('Alarm', 'Burglary Earthquake')"
      ]
     },
     "execution_count": 11,
     "metadata": {},
     "output_type": "execute_result"
    }
   ],
   "source": [
    "# variable_node를 통해 노드에 접근할 수 있음\n",
    "alarm_node = burglary.variable_node('Alarm')\n",
    "alarm_node"
   ]
  },
  {
   "cell_type": "code",
   "execution_count": 12,
   "id": "dee1f2ad",
   "metadata": {},
   "outputs": [
    {
     "name": "stdout",
     "output_type": "stream",
     "text": [
      "Alarm\n",
      "['Burglary', 'Earthquake']\n",
      "{(True, True): 0.95, (True, False): 0.94, (False, True): 0.29, (False, False): 0.001}\n",
      "[('JohnCalls', 'Alarm'), ('MaryCalls', 'Alarm')]\n"
     ]
    }
   ],
   "source": [
    "print(alarm_node.variable, alarm_node.parents, alarm_node.cpt, alarm_node.children, sep='\\n')"
   ]
  },
  {
   "cell_type": "code",
   "execution_count": 13,
   "id": "d397af5c",
   "metadata": {},
   "outputs": [
    {
     "data": {
      "text/plain": [
       "'False: 0.716, True: 0.284'"
      ]
     },
     "execution_count": 13,
     "metadata": {},
     "output_type": "execute_result"
    }
   ],
   "source": [
    "# 열거를 통한 추론\n",
    "# P(Burglary=True | JohnCalls=True, MaryCalls=True)\n",
    "ans_dist = enumeration_ask('Burglary', {'JohnCalls': T, 'MaryCalls': T}, burglary)\n",
    "ans_dist.show_approx()"
   ]
  },
  {
   "cell_type": "code",
   "execution_count": 14,
   "id": "06ffcad6",
   "metadata": {},
   "outputs": [
    {
     "data": {
      "text/plain": [
       "0.2841718353643929"
      ]
     },
     "execution_count": 14,
     "metadata": {},
     "output_type": "execute_result"
    }
   ],
   "source": [
    "ans_dist[T]"
   ]
  },
  {
   "cell_type": "code",
   "execution_count": 15,
   "id": "f98edfc3",
   "metadata": {},
   "outputs": [
    {
     "data": {
      "text/plain": [
       "'False: 0.716, True: 0.284'"
      ]
     },
     "execution_count": 15,
     "metadata": {},
     "output_type": "execute_result"
    }
   ],
   "source": [
    "# 변수 소거를 통한 추론\n",
    "ans_dist = elimination_ask('Burglary', dict(JohnCalls=T, MaryCalls=T), burglary)\n",
    "ans_dist.show_approx()"
   ]
  },
  {
   "cell_type": "code",
   "execution_count": 16,
   "id": "eb8beda0",
   "metadata": {},
   "outputs": [
    {
     "data": {
      "text/plain": [
       "0.2841718353643929"
      ]
     },
     "execution_count": 16,
     "metadata": {},
     "output_type": "execute_result"
    }
   ],
   "source": [
    "ans_dist[T]"
   ]
  },
  {
   "cell_type": "code",
   "execution_count": null,
   "id": "807a478c",
   "metadata": {},
   "outputs": [],
   "source": []
  }
 ],
 "metadata": {
  "kernelspec": {
   "display_name": "Python 3",
   "language": "python",
   "name": "python3"
  },
  "language_info": {
   "codemirror_mode": {
    "name": "ipython",
    "version": 3
   },
   "file_extension": ".py",
   "mimetype": "text/x-python",
   "name": "python",
   "nbconvert_exporter": "python",
   "pygments_lexer": "ipython3",
   "version": "3.11.1 (tags/v3.11.1:a7a450f, Dec  6 2022, 19:58:39) [MSC v.1934 64 bit (AMD64)]"
  },
  "vscode": {
   "interpreter": {
    "hash": "045e4db5da8b967fe9357b3f1c985609572601dfa03a7721cf01075ac1df2eb3"
   }
  }
 },
 "nbformat": 4,
 "nbformat_minor": 5
}
