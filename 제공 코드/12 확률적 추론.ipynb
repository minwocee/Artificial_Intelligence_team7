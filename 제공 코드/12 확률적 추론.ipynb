{
 "cells": [
  {
   "cell_type": "markdown",
   "id": "06466a8b",
   "metadata": {},
   "source": [
    "결합 확률 분포를 정의하고 이 확률에 기반하여 추론하는 방법을 이해하기 위한 실습. 여기 제공하는 코드는 GitHub aima-python의 코드를 기반으로 일부 수정한 것임."
   ]
  },
  {
   "cell_type": "markdown",
   "id": "03901e69",
   "metadata": {},
   "source": [
    "## 확률 분포"
   ]
  },
  {
   "cell_type": "code",
   "execution_count": 1,
   "id": "7638a5c5",
   "metadata": {},
   "outputs": [],
   "source": [
    "import numpy as np\n",
    "\n",
    "class ProbDist:\n",
    "    \"\"\"이산 확률 분포를 정의하는 클래스.\n",
    "    생성자에 확률변수(random variable)를 정의함.\n",
    "    이후에 확률변수 각 값에 대한 확률값을 지정함(딕셔너리 이용).\"\"\"\n",
    "\n",
    "    def __init__(self, var_name='?', freq=None):\n",
    "        \"\"\"var_name: 확률변수. freq가 None이 아니라면, (확률변수의 값, 빈도) 쌍으로 구성된 딕셔너리여야 함.\n",
    "        이후, 빈도를 바탕으로 합이 1이 되는 확률이 되도록 정규화함.\"\"\"\n",
    "        self.prob = {} # 실제 확률값은 여기에 저장됨\n",
    "        self.var_name = var_name\n",
    "        self.values = []\n",
    "        if freq:\n",
    "            for (v, p) in freq.items():\n",
    "                self[v] = p\n",
    "            self.normalize()\n",
    "\n",
    "    def __getitem__(self, val):\n",
    "        \"\"\"확률변수의 값(val)이 주어지면, 확률 P(val) 리턴.\"\"\"\n",
    "        try:\n",
    "            return self.prob[val]\n",
    "        except KeyError:\n",
    "            return 0\n",
    "\n",
    "    def __setitem__(self, val, p):\n",
    "        \"\"\"확률변수의 값 val에 대한 확률 P(val) = p로 설정\"\"\"\n",
    "        if val not in self.values:\n",
    "            self.values.append(val)\n",
    "        self.prob[val] = p\n",
    "\n",
    "    def normalize(self):\n",
    "        \"\"\"모든 확률값의 합이 1이 되도록 정규화하여 정규화된 분포를 리턴함.\n",
    "        확률값 합이 0이면, ZeroDivisionError가 발생됨.\"\"\"\n",
    "        total = sum(self.prob.values())\n",
    "        if not np.isclose(total, 1.0):\n",
    "            for val in self.prob:\n",
    "                self.prob[val] /= total\n",
    "        return self\n",
    "\n",
    "    def show_approx(self, numfmt='{:.3g}'):\n",
    "        \"\"\"확률변수의 값에 따라 정렬하고 확률값은 반올림하여 리턴함.\"\"\"\n",
    "        return ', '.join([('{}: ' + numfmt).format(v, p) for (v, p) in sorted(self.prob.items())])\n",
    "\n",
    "    def __repr__(self):\n",
    "        return \"P({})\".format(self.var_name)"
   ]
  },
  {
   "cell_type": "code",
   "execution_count": 2,
   "id": "32e9d845",
   "metadata": {},
   "outputs": [
    {
     "data": {
      "text/plain": [
       "0.75"
      ]
     },
     "execution_count": 2,
     "metadata": {},
     "output_type": "execute_result"
    }
   ],
   "source": [
    "# 동전 던지기 확률 분포\n",
    "p = ProbDist('Flip') # 확률변수(Flip)\n",
    "p['H'], p['T'] = 0.25, 0.75 # 각 값에 대한 확률 설정; P(Flip=H)=0.25, P(Flip=T)=0.75\n",
    "p['T']"
   ]
  },
  {
   "cell_type": "code",
   "execution_count": 3,
   "id": "3acfae7b",
   "metadata": {},
   "outputs": [
    {
     "name": "stdout",
     "output_type": "stream",
     "text": [
      "X\n",
      "['low', 'medium', 'high']\n",
      "(0.125, 0.375, 0.5)\n"
     ]
    }
   ],
   "source": [
    "# 확률변수 정의와 각 값에 대한 빈도를 생성자에 설정.\n",
    "# 확률값이 되도록 총합이 1이 되도록 정규화됨.\n",
    "p = ProbDist('X', freq={'low': 125, 'medium': 375, 'high': 500})\n",
    "print(p.var_name)\n",
    "print(p.values)\n",
    "print((p['low'], p['medium'], p['high']))"
   ]
  },
  {
   "cell_type": "code",
   "execution_count": 4,
   "id": "47a90334",
   "metadata": {},
   "outputs": [
    {
     "data": {
      "text/plain": [
       "(50, 114, 64)"
      ]
     },
     "execution_count": 4,
     "metadata": {},
     "output_type": "execute_result"
    }
   ],
   "source": [
    "# 빈도를 생성자에 한꺼번에 설정하지 않고, 별도로 지정하는 경우 자동으로 정규화되지 않음.\n",
    "# 이 경우에는 normalize() 함수를 호출하여 정규화 가능\n",
    "p = ProbDist('Y')\n",
    "p['Cat'] = 50\n",
    "p['Dog'] = 114\n",
    "p['Mice'] = 64\n",
    "(p['Cat'], p['Dog'], p['Mice'])"
   ]
  },
  {
   "cell_type": "code",
   "execution_count": 5,
   "id": "0468a951",
   "metadata": {},
   "outputs": [
    {
     "data": {
      "text/plain": [
       "(0.21929824561403508, 0.5, 0.2807017543859649)"
      ]
     },
     "execution_count": 5,
     "metadata": {},
     "output_type": "execute_result"
    }
   ],
   "source": [
    "p.normalize()\n",
    "(p['Cat'], p['Dog'], p['Mice'])"
   ]
  },
  {
   "cell_type": "code",
   "execution_count": 6,
   "id": "8f86805c",
   "metadata": {},
   "outputs": [
    {
     "data": {
      "text/plain": [
       "'Cat: 0.219, Dog: 0.5, Mice: 0.281'"
      ]
     },
     "execution_count": 6,
     "metadata": {},
     "output_type": "execute_result"
    }
   ],
   "source": [
    "p.show_approx()"
   ]
  },
  {
   "cell_type": "markdown",
   "id": "fcdca4c2",
   "metadata": {},
   "source": [
    "## 결합 확률 분포"
   ]
  },
  {
   "cell_type": "code",
   "execution_count": 7,
   "id": "3588436d",
   "metadata": {},
   "outputs": [],
   "source": [
    "from collections import defaultdict\n",
    "\n",
    "class JointProbDist(ProbDist):\n",
    "    \"\"\"변수 집합에 대한 이산 확률 분포(결합 확률 분포) 클래스. ProbDist의 서브 클래스.\"\"\"\n",
    "\n",
    "    def __init__(self, variables):\n",
    "        \"\"\"variables: 대상 확률변수들.\"\"\"\n",
    "        self.prob = {}\n",
    "        self.variables = variables\n",
    "        self.vals = defaultdict(list) # k: [v1, v2, ...]\n",
    "\n",
    "    def __getitem__(self, values):\n",
    "        \"\"\"주어진 변수 값들에 대한 결합 확률 리턴.\"\"\"\n",
    "        values = event_values(values, self.variables)\n",
    "        return ProbDist.__getitem__(self, values)\n",
    "\n",
    "    def __setitem__(self, values, p):\n",
    "        \"\"\"확률값 P(values) = p로 설정. values는 각 변수에 대해 하나의 값을 가진 튜플/딕셔너리.\n",
    "        또한 각 변수에 대해 지금까지 관측된 각 변수의 값을 기록함.\"\"\"\n",
    "        values = event_values(values, self.variables)\n",
    "        self.prob[values] = p\n",
    "        for var, val in zip(self.variables, values):\n",
    "            if val not in self.vals[var]:\n",
    "                self.vals[var].append(val)\n",
    "\n",
    "    def values(self, var):\n",
    "        \"\"\"변수에 대해 가능한 값의 집합을 리턴.\"\"\"\n",
    "        return self.vals[var]\n",
    "\n",
    "    def __repr__(self):\n",
    "        return \"P({})\".format(self.variables)\n",
    "\n",
    "    \n",
    "def event_values(event, variables):\n",
    "    \"\"\"이벤트(event)에 존재하는 변수들(variables)에 대한 값들의 튜플을 리턴함.\"\"\"\n",
    "    if isinstance(event, tuple) and len(event) == len(variables):\n",
    "        return event\n",
    "    else:\n",
    "        return tuple([event[var] for var in variables])"
   ]
  },
  {
   "cell_type": "code",
   "execution_count": 8,
   "id": "3aec8264",
   "metadata": {},
   "outputs": [
    {
     "data": {
      "text/plain": [
       "(8, 10)"
      ]
     },
     "execution_count": 8,
     "metadata": {},
     "output_type": "execute_result"
    }
   ],
   "source": [
    "event = {'A': 10, 'B': 9, 'C': 8}\n",
    "variables = ['C', 'A']\n",
    "event_values(event, variables)"
   ]
  },
  {
   "cell_type": "code",
   "execution_count": 9,
   "id": "7fbf50c2",
   "metadata": {},
   "outputs": [
    {
     "data": {
      "text/plain": [
       "P(['X', 'Y'])"
      ]
     },
     "execution_count": 9,
     "metadata": {},
     "output_type": "execute_result"
    }
   ],
   "source": [
    "# P(X, Y)\n",
    "# 확률변수 정의\n",
    "variables = ['X', 'Y']\n",
    "j = JointProbDist(variables)\n",
    "j"
   ]
  },
  {
   "cell_type": "code",
   "execution_count": 19,
   "id": "2e16c0c0",
   "metadata": {},
   "outputs": [
    {
     "data": {
      "text/plain": [
       "(0.2, 0.5)"
      ]
     },
     "execution_count": 19,
     "metadata": {},
     "output_type": "execute_result"
    }
   ],
   "source": [
    "# 각 변수 값에 대한 확률값 설정\n",
    "j[1,1] = 0.2\n",
    "j[0,1] = 0.5\n",
    "\n",
    "(j[1,1], j[0,1])"
   ]
  },
  {
   "cell_type": "markdown",
   "id": "4da7ef9f",
   "metadata": {},
   "source": [
    "## 완전 결합 분포 기반 추론"
   ]
  },
  {
   "cell_type": "code",
   "execution_count": 11,
   "id": "af33d42a",
   "metadata": {},
   "outputs": [],
   "source": [
    "# 완전 결합 확률 분포 정의\n",
    "full_joint = JointProbDist(['Cavity', 'Toothache', 'Catch'])\n",
    "full_joint[dict(Cavity=True, Toothache=True, Catch=True)] = 0.108\n",
    "full_joint[dict(Cavity=True, Toothache=True, Catch=False)] = 0.012\n",
    "full_joint[dict(Cavity=True, Toothache=False, Catch=True)] = 0.016\n",
    "full_joint[dict(Cavity=True, Toothache=False, Catch=False)] = 0.064\n",
    "full_joint[dict(Cavity=False, Toothache=True, Catch=True)] = 0.072\n",
    "full_joint[dict(Cavity=False, Toothache=False, Catch=True)] = 0.144\n",
    "full_joint[dict(Cavity=False, Toothache=True, Catch=False)] = 0.008\n",
    "full_joint[dict(Cavity=False, Toothache=False, Catch=False)] = 0.576"
   ]
  },
  {
   "cell_type": "code",
   "execution_count": 12,
   "id": "35374bde",
   "metadata": {},
   "outputs": [],
   "source": [
    "def enumerate_joint(variables, e, P):\n",
    "    \"\"\"증거 e에 포함되지 않은 확률분포 P의 나머지 변수들이 주어졌을 때,\n",
    "    증거 e와 일관된 P의 엔트리들의 합을 리턴함.\"\"\"\n",
    "    if not variables:\n",
    "        return P[e]\n",
    "    Y, rest = variables[0], variables[1:]\n",
    "    return sum([enumerate_joint(rest, extend(e, Y, y), P) for y in P.values(Y)])\n",
    "\n",
    "\n",
    "def extend(s, var, val):\n",
    "    \"\"\"딕셔너리 s를 복사하고 var에 값 val을 세팅하여 확장하여 그 복사본을 리턴함.\"\"\"\n",
    "    return {**s, var: val}"
   ]
  },
  {
   "cell_type": "code",
   "execution_count": 22,
   "id": "a90e5a82",
   "metadata": {},
   "outputs": [
    {
     "data": {
      "text/plain": [
       "0.19999999999999998"
      ]
     },
     "execution_count": 22,
     "metadata": {},
     "output_type": "execute_result"
    }
   ],
   "source": [
    "# P(Toothache=True)\n",
    "evidence = dict(Toothache=True)\n",
    "variables = ['Cavity', 'Catch'] # 증거에 포함되지 않은 변수들\n",
    "ans1 = enumerate_joint(variables, evidence, full_joint)\n",
    "ans1"
   ]
  },
  {
   "cell_type": "code",
   "execution_count": 14,
   "id": "d2518660",
   "metadata": {},
   "outputs": [
    {
     "data": {
      "text/plain": [
       "0.12"
      ]
     },
     "execution_count": 14,
     "metadata": {},
     "output_type": "execute_result"
    }
   ],
   "source": [
    "# P(Cavity=True and Toothache=True)\n",
    "evidence = dict(Cavity=True, Toothache=True)\n",
    "variables = ['Catch'] # 증거에 포함되지 않은 변수들\n",
    "ans2 = enumerate_joint(variables, evidence, full_joint)\n",
    "ans2"
   ]
  },
  {
   "cell_type": "code",
   "execution_count": 15,
   "id": "d537afea",
   "metadata": {},
   "outputs": [
    {
     "data": {
      "text/plain": [
       "0.6"
      ]
     },
     "execution_count": 15,
     "metadata": {},
     "output_type": "execute_result"
    }
   ],
   "source": [
    "# P(Cavity=True | Toothache=True) = P(Cavity=True and Toothache=True) / P(Toothache=True)\n",
    "ans2/ans1"
   ]
  },
  {
   "cell_type": "code",
   "execution_count": 16,
   "id": "8fba3ea3",
   "metadata": {},
   "outputs": [],
   "source": [
    "def enumerate_joint_ask(X, e, P):\n",
    "    \"\"\"결합 확률 분포 P에서 {var:val} 관측들(증거들) e가 주어졌을 때,\n",
    "    질의 변수 X의 값들에 대한 확률 분포를 리턴함.\"\"\"\n",
    "    assert X not in e, \"질의 변수는 증거에 포함된 변수일 수 없음\"\n",
    "    Q = ProbDist(X)  # X에 대한 확률 분포, 초기에는 비어 있음.\n",
    "    Y = [v for v in P.variables if v != X and v not in e]  # 미관측 변수\n",
    "    for xi in P.values(X):\n",
    "        Q[xi] = enumerate_joint(Y, extend(e, X, xi), P)\n",
    "    return Q.normalize()"
   ]
  },
  {
   "cell_type": "code",
   "execution_count": 17,
   "id": "da39d71d",
   "metadata": {},
   "outputs": [
    {
     "data": {
      "text/plain": [
       "(0.6, 0.39999999999999997)"
      ]
     },
     "execution_count": 17,
     "metadata": {},
     "output_type": "execute_result"
    }
   ],
   "source": [
    "# P(Cavity | Toothache=True)\n",
    "query_variable = 'Cavity'\n",
    "evidence = dict(Toothache=True)\n",
    "ans = enumerate_joint_ask(query_variable, evidence, full_joint)\n",
    "(ans[True], ans[False])"
   ]
  },
  {
   "cell_type": "code",
   "execution_count": null,
   "id": "143ea341",
   "metadata": {},
   "outputs": [],
   "source": []
  }
 ],
 "metadata": {
  "kernelspec": {
   "display_name": "Python 3",
   "language": "python",
   "name": "python3"
  },
  "language_info": {
   "codemirror_mode": {
    "name": "ipython",
    "version": 3
   },
   "file_extension": ".py",
   "mimetype": "text/x-python",
   "name": "python",
   "nbconvert_exporter": "python",
   "pygments_lexer": "ipython3",
   "version": "3.11.1"
  },
  "vscode": {
   "interpreter": {
    "hash": "045e4db5da8b967fe9357b3f1c985609572601dfa03a7721cf01075ac1df2eb3"
   }
  }
 },
 "nbformat": 4,
 "nbformat_minor": 5
}
