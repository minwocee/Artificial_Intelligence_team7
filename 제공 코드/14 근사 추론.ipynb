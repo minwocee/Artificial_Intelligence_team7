{
 "cells": [
  {
   "cell_type": "markdown",
   "id": "c5a6164e",
   "metadata": {},
   "source": [
    "베이즈 네트워크의 근사 추론(approximate inference). 여기 제공하는 코드는 GitHub aima-python의 코드를 기반으로 일부 수정한 것임."
   ]
  },
  {
   "cell_type": "code",
   "execution_count": null,
   "id": "c1ee71bf",
   "metadata": {},
   "outputs": [],
   "source": [
    "# 베이즈 네트워크 기본 코드를 bayesnet.py에 저장해뒀음\n",
    "from bayesnet import *\n",
    "seed = 23"
   ]
  },
  {
   "cell_type": "markdown",
   "id": "3a98e90c",
   "metadata": {},
   "source": [
    "## 근사 추론 알고리즘 구현"
   ]
  },
  {
   "cell_type": "code",
   "execution_count": null,
   "id": "9512a3fe",
   "metadata": {},
   "outputs": [],
   "source": [
    "# 무증거 랜덤 샘플링\n",
    "def prior_sample(bn):\n",
    "    \"\"\"\n",
    "    베이즈 네트워크 bn의 완전 결합 확률 분포에서 무작위 샘플링.\n",
    "    {변수: 값} 형식의 딕셔너리가 리턴됨.\n",
    "    \"\"\"\n",
    "    event = {}\n",
    "    for node in bn.nodes:\n",
    "        event[node.variable] = node.sample(event)\n",
    "    return event"
   ]
  },
  {
   "cell_type": "code",
   "execution_count": null,
   "id": "44f3bdec",
   "metadata": {},
   "outputs": [],
   "source": [
    "# 기각 샘플링\n",
    "def rejection_sampling(X, e, bn, N=10000):\n",
    "    \"\"\"\n",
    "    N개의 샘플을 사용하여 P(X|e)를 추정함.\n",
    "    N개 샘플이 모두 기각되면 ZeroDivisionError 발생.\n",
    "    \"\"\"\n",
    "    counts = {x: 0 for x in bn.variable_values(X)}\n",
    "    for j in range(N):\n",
    "        sample = prior_sample(bn)\n",
    "        if consistent_with(sample, e):\n",
    "            counts[sample[X]] += 1\n",
    "    return ProbDist(X, counts)\n",
    "\n",
    "\n",
    "def consistent_with(event, evidence):\n",
    "    \"\"\"event가 evidence와 일관되는가?(증거와 부합하는가?)\"\"\"\n",
    "    return all(evidence.get(k, v) == v for k, v in event.items())"
   ]
  },
  {
   "cell_type": "code",
   "execution_count": null,
   "id": "81e5a98b",
   "metadata": {},
   "outputs": [],
   "source": [
    "# 가능도 가중치\n",
    "def likelihood_weighting(X, e, bn, N=10000):\n",
    "    \"\"\"\n",
    "    N개의 샘플을 사용하여 P(X|e)를 추정함.\n",
    "    \"\"\"\n",
    "    W = {x: 0 for x in bn.variable_values(X)}\n",
    "    for j in range(N):\n",
    "        sample, weight = weighted_sample(bn, e)\n",
    "        W[sample[X]] += weight\n",
    "    return ProbDist(X, W)\n",
    "\n",
    "\n",
    "def weighted_sample(bn, e):\n",
    "    \"\"\"\n",
    "    증거 e와 일관된 이벤트를 bn으로부터 샘플링함.\n",
    "    이벤트와 가중치(이벤트가 증거에 부합할 가능도)를 리턴함.\n",
    "    \"\"\"\n",
    "    w = 1\n",
    "    event = dict(e)\n",
    "    for node in bn.nodes:\n",
    "        Xi = node.variable\n",
    "        if Xi in e:\n",
    "            w *= node.p(e[Xi], event)\n",
    "        else:\n",
    "            event[Xi] = node.sample(event)\n",
    "    return event, w\n"
   ]
  },
  {
   "cell_type": "code",
   "execution_count": null,
   "id": "a742fe2b",
   "metadata": {},
   "outputs": [],
   "source": [
    "# Gibbs 샘플링\n",
    "def gibbs_ask(X, e, bn, N=1000):\n",
    "    \"\"\"Gibbs 샘플링.\"\"\"\n",
    "    assert X not in e, \"Query variable must be distinct from evidence\"\n",
    "    counts = {x: 0 for x in bn.variable_values(X)}\n",
    "    Z = [var for var in bn.variables if var not in e]\n",
    "    state = dict(e)\n",
    "    for Zi in Z:\n",
    "        state[Zi] = random.choice(bn.variable_values(Zi))\n",
    "    for j in range(N):\n",
    "        for Zi in Z:\n",
    "            state[Zi] = markov_blanket_sample(Zi, state, bn)\n",
    "            counts[state[X]] += 1\n",
    "    return ProbDist(X, counts)\n",
    "\n",
    "\n",
    "def markov_blanket_sample(X, e, bn):\n",
    "    \"\"\"\n",
    "    P(X | mb)에 따라 샘플을 리턴함.\n",
    "    mb: X의 마르코프 블랭킷에 속한 변수들. 그 값은 이벤트 e에서 취함.\n",
    "    x의 마르코프 블랭킷: X의 부모들, 자식들, 자식들의 부모들\n",
    "    \"\"\"\n",
    "    Xnode = bn.variable_node(X)\n",
    "    Q = ProbDist(X)\n",
    "    for xi in bn.variable_values(X):\n",
    "        ei = extend(e, X, xi)\n",
    "        Q[xi] = Xnode.p(xi, e) * product(Yj.p(ei[Yj.variable], ei) for Yj in Xnode.children)\n",
    "    # 불리언 변수로 가정함.\n",
    "    return probability(Q.normalize()[True])\n",
    "\n",
    "\n",
    "def product(numbers):\n",
    "    \"\"\"numbers에 있는 값들을 모두 곱한 결과를 리턴함. 예: product([2, 3, 10]) == 60\"\"\"\n",
    "    result = 1\n",
    "    for x in numbers:\n",
    "        result *= x\n",
    "    return result"
   ]
  },
  {
   "cell_type": "markdown",
   "id": "0dd78456",
   "metadata": {},
   "source": [
    "## 근사 추론 예"
   ]
  },
  {
   "cell_type": "code",
   "execution_count": null,
   "id": "92bf05e2",
   "metadata": {},
   "outputs": [],
   "source": [
    "# Sprinkler 베이즈 네트워크 생성\n",
    "sprinkler = BayesNet([\n",
    "    ('Cloudy', '', 0.5),\n",
    "    ('Sprinkler', 'Cloudy', {T: 0.10, F: 0.50}),\n",
    "    ('Rain', 'Cloudy', {T: 0.80, F: 0.20}),\n",
    "    ('WetGrass', 'Sprinkler Rain', {(T, T): 0.99, (T, F): 0.90, (F, T): 0.90, (F, F): 0.00})])"
   ]
  },
  {
   "cell_type": "code",
   "execution_count": null,
   "id": "979cb868",
   "metadata": {},
   "outputs": [],
   "source": [
    "N = 1000\n",
    "all_observations = [prior_sample(sprinkler) for x in range(N)]\n",
    "all_observations[:5]"
   ]
  },
  {
   "cell_type": "code",
   "execution_count": null,
   "id": "8c102148",
   "metadata": {},
   "outputs": [],
   "source": [
    "# P(Rain=True)\n",
    "rain_true = [observation for observation in all_observations if observation['Rain'] == True]\n",
    "answer = len(rain_true) / N\n",
    "print(answer)"
   ]
  },
  {
   "cell_type": "code",
   "execution_count": null,
   "id": "62d7c1dd",
   "metadata": {},
   "outputs": [],
   "source": [
    "# 다시 샘플링하여 계산\n",
    "N = 1000\n",
    "all_observations = [prior_sample(sprinkler) for x in range(N)]\n",
    "rain_true = [observation for observation in all_observations if observation['Rain'] == True]\n",
    "answer = len(rain_true) / N\n",
    "print(answer)"
   ]
  },
  {
   "cell_type": "code",
   "execution_count": null,
   "id": "9d138650",
   "metadata": {},
   "outputs": [],
   "source": [
    "# P(Cloudy=True | Rain=True)\n",
    "rain_and_cloudy = [observation for observation in rain_true if observation['Cloudy'] == True]\n",
    "answer = len(rain_and_cloudy) / len(rain_true)\n",
    "print(answer)"
   ]
  },
  {
   "cell_type": "code",
   "execution_count": null,
   "id": "c9f56863",
   "metadata": {},
   "outputs": [],
   "source": [
    "# 기각 샘플링을 사용하여 P(Cloudy=True | Rain=True) 추정\n",
    "random.seed(seed)\n",
    "dist = rejection_sampling('Cloudy', dict(Rain=True), sprinkler, 1000)\n",
    "print(dist.show_approx())\n",
    "print(dist[True])"
   ]
  },
  {
   "cell_type": "code",
   "execution_count": null,
   "id": "0bfa8afb",
   "metadata": {},
   "outputs": [],
   "source": [
    "weighted_sample(sprinkler, dict(Rain=True))"
   ]
  },
  {
   "cell_type": "code",
   "execution_count": null,
   "id": "4322b5d9",
   "metadata": {},
   "outputs": [],
   "source": [
    "# 가능도 가중치를 사용하여 P(Cloudy=True | Rain=True) 추정\n",
    "random.seed(seed)\n",
    "dist = likelihood_weighting('Cloudy', dict(Rain=True), sprinkler, 1000)\n",
    "print(dist.show_approx())\n",
    "print(dist[True])"
   ]
  },
  {
   "cell_type": "code",
   "execution_count": null,
   "id": "9ca79011",
   "metadata": {},
   "outputs": [],
   "source": [
    "# Gibbs 샘플링을 사용하여 P(Cloudy=True | Rain=True) 추정\n",
    "dist = gibbs_ask('Cloudy', dict(Rain=True), sprinkler, 1000)\n",
    "print(dist.show_approx())\n",
    "print(dist[True])"
   ]
  },
  {
   "cell_type": "code",
   "execution_count": null,
   "id": "57976bf8",
   "metadata": {},
   "outputs": [],
   "source": []
  }
 ],
 "metadata": {
  "kernelspec": {
   "display_name": "Python 3 (ipykernel)",
   "language": "python",
   "name": "python3"
  },
  "language_info": {
   "codemirror_mode": {
    "name": "ipython",
    "version": 3
   },
   "file_extension": ".py",
   "mimetype": "text/x-python",
   "name": "python",
   "nbconvert_exporter": "python",
   "pygments_lexer": "ipython3",
   "version": "3.9.7"
  }
 },
 "nbformat": 4,
 "nbformat_minor": 5
}
