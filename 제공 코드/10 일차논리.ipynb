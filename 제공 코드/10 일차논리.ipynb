{
 "cells": [
  {
   "cell_type": "markdown",
   "id": "ba375817",
   "metadata": {},
   "source": [
    "논리적 에이전트, 명제논리, 일차논리 표현과 관련된 사항들. 코드는 GitHub aima-python의 코드를 기반으로 일부 수정한 것임."
   ]
  },
  {
   "cell_type": "code",
   "execution_count": null,
   "id": "d0c76863",
   "metadata": {},
   "outputs": [],
   "source": [
    "import collections"
   ]
  },
  {
   "cell_type": "markdown",
   "id": "00b6eaea",
   "metadata": {},
   "source": [
    "# 논리 문장 표현을 위한 준비\n",
    "`Expr`: 논리 문장을 Python에서 표현하기 위해 정의한 클래스"
   ]
  },
  {
   "cell_type": "code",
   "execution_count": null,
   "id": "08f9dcba",
   "metadata": {},
   "outputs": [],
   "source": [
    "class Expr:\n",
    "    \"\"\"논리 문장을 포함한 수학식(연산자와 0개 이상의 피연산자 포함) 표현을 위한 클래스.\n",
    "    op(연산자): 문자열 (예: '+', 'sin')\n",
    "    args(피연산자; 인자): Expression  (Expr 또는 숫자)\"\"\"\n",
    "\n",
    "    def __init__(self, op, *args):\n",
    "        self.op = str(op)\n",
    "        self.args = args\n",
    "\n",
    "    # 각종 연산자를 Expr에서 사용하기 위한 연산자 오버로딩\n",
    "    def __neg__(self):\n",
    "        return Expr('-', self)\n",
    "\n",
    "    def __pos__(self):\n",
    "        return Expr('+', self)\n",
    "\n",
    "    def __invert__(self):\n",
    "        return Expr('~', self)\n",
    "\n",
    "    def __add__(self, rhs):\n",
    "        return Expr('+', self, rhs)\n",
    "\n",
    "    def __sub__(self, rhs):\n",
    "        return Expr('-', self, rhs)\n",
    "\n",
    "    def __mul__(self, rhs):\n",
    "        return Expr('*', self, rhs)\n",
    "\n",
    "    def __pow__(self, rhs):\n",
    "        return Expr('**', self, rhs)\n",
    "\n",
    "    def __mod__(self, rhs):\n",
    "        return Expr('%', self, rhs)\n",
    "\n",
    "    def __and__(self, rhs):\n",
    "        return Expr('&', self, rhs)\n",
    "\n",
    "    def __xor__(self, rhs):\n",
    "        return Expr('^', self, rhs)\n",
    "\n",
    "    def __rshift__(self, rhs):\n",
    "        return Expr('>>', self, rhs)\n",
    "\n",
    "    def __lshift__(self, rhs):\n",
    "        return Expr('<<', self, rhs)\n",
    "\n",
    "    def __truediv__(self, rhs):\n",
    "        return Expr('/', self, rhs)\n",
    "\n",
    "    def __floordiv__(self, rhs):\n",
    "        return Expr('//', self, rhs)\n",
    "\n",
    "    def __matmul__(self, rhs):\n",
    "        return Expr('@', self, rhs)\n",
    "\n",
    "    def __or__(self, rhs):\n",
    "        \"\"\"P | Q 형식이나 P |'==>'| Q 형식을 허용하도록.\"\"\"\n",
    "        if isinstance(rhs, Expression):\n",
    "            return Expr('|', self, rhs)\n",
    "        else:\n",
    "            return PartialExpr(rhs, self)\n",
    "\n",
    "    # reverse 연산자 오버로딩: Expr 객체가 연산자의 오른쪽 피연산자로 사용됐을 때도 정상 동작하도록.\n",
    "    def __radd__(self, lhs):\n",
    "        return Expr('+', lhs, self)\n",
    "\n",
    "    def __rsub__(self, lhs):\n",
    "        return Expr('-', lhs, self)\n",
    "\n",
    "    def __rmul__(self, lhs):\n",
    "        return Expr('*', lhs, self)\n",
    "\n",
    "    def __rdiv__(self, lhs):\n",
    "        return Expr('/', lhs, self)\n",
    "\n",
    "    def __rpow__(self, lhs):\n",
    "        return Expr('**', lhs, self)\n",
    "\n",
    "    def __rmod__(self, lhs):\n",
    "        return Expr('%', lhs, self)\n",
    "\n",
    "    def __rand__(self, lhs):\n",
    "        return Expr('&', lhs, self)\n",
    "\n",
    "    def __rxor__(self, lhs):\n",
    "        return Expr('^', lhs, self)\n",
    "\n",
    "    def __ror__(self, lhs):\n",
    "        return Expr('|', lhs, self)\n",
    "\n",
    "    def __rrshift__(self, lhs):\n",
    "        return Expr('>>', lhs, self)\n",
    "\n",
    "    def __rlshift__(self, lhs):\n",
    "        return Expr('<<', lhs, self)\n",
    "\n",
    "    def __rtruediv__(self, lhs):\n",
    "        return Expr('/', lhs, self)\n",
    "\n",
    "    def __rfloordiv__(self, lhs):\n",
    "        return Expr('//', lhs, self)\n",
    "\n",
    "    def __rmatmul__(self, lhs):\n",
    "        return Expr('@', lhs, self)\n",
    "\n",
    "    def __call__(self, *args):\n",
    "        \"\"\"'f'가 기호라면, f(0) == Expr('f', 0)\"\"\"\n",
    "        if self.args:\n",
    "            raise ValueError('Can only do a call for a Symbol, not an Expr')\n",
    "        else:\n",
    "            return Expr(self.op, *args)\n",
    "\n",
    "    # ==, repr\n",
    "    def __eq__(self, other):\n",
    "        \"\"\"x == y: op와 args가 모두 동일한 Expr일 경우 True를 리턴.\"\"\"\n",
    "        return isinstance(other, Expr) and self.op == other.op and self.args == other.args\n",
    "\n",
    "    def __lt__(self, other):\n",
    "        return isinstance(other, Expr) and str(self) < str(other)\n",
    "\n",
    "    def __hash__(self):\n",
    "        return hash(self.op) ^ hash(self.args)\n",
    "\n",
    "    def __repr__(self):\n",
    "        op = self.op\n",
    "        args = [str(arg) for arg in self.args]\n",
    "        if op.isidentifier():  # f(x) or f(x, y)\n",
    "            return f\"{op}({', '.join(args)})\" if args else op\n",
    "        elif len(args) == 1:  # -x or -(x + 1)\n",
    "            return op + args[0]\n",
    "        else:  # (x - y)\n",
    "            opp = (' ' + op + ' ')\n",
    "            return '(' + opp.join(args) + ')'"
   ]
  },
  {
   "cell_type": "code",
   "execution_count": null,
   "id": "6521ba1c",
   "metadata": {},
   "outputs": [],
   "source": [
    "# Expression은 Expr 또는 숫자(Number)\n",
    "Number = (int, float, complex)\n",
    "Expression = (Expr, Number)\n",
    "\n",
    "# 기호(Symbol): 인자가 없는 Expr\n",
    "def Symbol(name):\n",
    "    \"\"\"인자가 없는 Expr\"\"\"\n",
    "    return Expr(name)\n",
    "\n",
    "def symbols(names):\n",
    "    \"\"\"여러 기호 생성 시 사용. Symbol들의 튜플을 리턴함.\n",
    "    이름은 콤마나 공백으로 구분된 문자열.\"\"\"\n",
    "    return tuple(Symbol(name) for name in names.replace(',', ' ').split())\n",
    "\n",
    "def subexpressions(x):\n",
    "    \"\"\"Expression x를 구성하는 부분 Expression(인자)들을 리턴함(자기 자신 포함).\"\"\"\n",
    "    yield x\n",
    "    if isinstance(x, Expr):\n",
    "        for arg in x.args:\n",
    "            yield from subexpressions(arg)\n",
    "\n",
    "def arity(expression):\n",
    "    \"\"\"expression의 인자 개수\"\"\"\n",
    "    if isinstance(expression, Expr):\n",
    "        return len(expression.args)\n",
    "    else:  # 숫자인 경우\n",
    "        return 0"
   ]
  },
  {
   "cell_type": "code",
   "execution_count": null,
   "id": "9aefef11",
   "metadata": {},
   "outputs": [],
   "source": [
    "# Python에 정의되어 있지 않은 연산자를 사용하기 위해 새로운 infixOps 정의\n",
    "# P ==> Q  는  P |'==>'| Q  로\n",
    "# P <== Q  는  P |'<=='| Q  로\n",
    "# P <=> Q  는  P |'<=>'| Q  로 표현\n",
    "class PartialExpr:\n",
    "    \"\"\"조건문 P |'==>'| Q 는\n",
    "    (P | '==>') | Q 로 구현됨.  (| 는 Python의 or 연산자)\n",
    "    즉, 먼저 PartialExpr('==>', P)를 생성한 후 Q를 결합함.\"\"\"\n",
    "\n",
    "    def __init__(self, op, lhs):\n",
    "        self.op, self.lhs = op, lhs\n",
    "\n",
    "    def __or__(self, rhs):\n",
    "        return Expr(self.op, self.lhs, rhs)\n",
    "\n",
    "    def __repr__(self):\n",
    "        return f\"PartialExpr('{self.op}', {self.lhs})\"\n",
    "\n",
    "\n",
    "def expr(x):\n",
    "    \"\"\"Expression 생성을 간편하게 수행하기 위한 함수. x는 문자열.\n",
    "    x 문자열에 포함된 식별자는 자동으로 Symbol로 정의됨.\n",
    "    ==>, <==, <=>는 각각의 infix 연산자(예: |'==>'|)로 취급됨.\n",
    "    x가 이미 Expression이면 그대로 리턴.\n",
    "    >>> expr('P & Q ==> Q')\n",
    "    ((P & Q) ==> Q)\n",
    "    \"\"\"\n",
    "    return eval(expr_handle_infix_ops(x), defaultkeydict(Symbol)) if isinstance(x, str) else x\n",
    "\n",
    "\n",
    "infix_ops = '==> <== <=>'.split()\n",
    "\n",
    "\n",
    "def expr_handle_infix_ops(x):\n",
    "    \"\"\"infix 연산자로 변환.\n",
    "    P ==> Q  를  P |'==>'| Q  로 변환\n",
    "    P <== Q  를  P |'<=='| Q  로 변환\n",
    "    P <=> Q  를  P |'<=>'| Q  로 변환\n",
    "    \"\"\"\n",
    "    for op in infix_ops:\n",
    "        x = x.replace(op, '|' + repr(op) + '|')\n",
    "    return x\n",
    "\n",
    "\n",
    "class defaultkeydict(collections.defaultdict):\n",
    "    \"\"\"default_factory가 key의 함수임.\n",
    "    >>> d = defaultkeydict(len); d['abcde']\n",
    "    5\n",
    "    \"\"\"\n",
    "    def __missing__(self, key):  # key가 없을 경우 호출됨\n",
    "        self[key] = result = self.default_factory(key)\n",
    "        return result"
   ]
  },
  {
   "cell_type": "code",
   "execution_count": null,
   "id": "61c1e839",
   "metadata": {},
   "outputs": [],
   "source": [
    "def is_symbol(s):\n",
    "    \"\"\"기호: 알파벳 문자로 시작하는 문자열.\n",
    "    >>> is_symbol('R2D2')\n",
    "    True\n",
    "    \"\"\"\n",
    "    return isinstance(s, str) and s[:1].isalpha()\n",
    "\n",
    "def is_var_symbol(s):\n",
    "    \"\"\"논리 변수 기호: 소문자로 시작하는 문자열.\n",
    "    >>> is_var_symbol('EXE')\n",
    "    False\n",
    "    \"\"\"\n",
    "    return is_symbol(s) and s[0].islower()\n",
    "\n",
    "def is_prop_symbol(s):\n",
    "    \"\"\"명제논리 기호: 대문자로 시작하는 문자열.\n",
    "    >>> is_prop_symbol('exe')\n",
    "    False\n",
    "    \"\"\"\n",
    "    return is_symbol(s) and s[0].isupper()\n",
    "\n",
    "def variables(s):\n",
    "    \"\"\"Expr s에 등장하는 변수 집합을 리턴함.\n",
    "    >>> variables(expr('F(x, x) & G(x, y) & H(y, z) & R(A, z, 2)')) == {x, y, z}\n",
    "    True\n",
    "    \"\"\"\n",
    "    return {x for x in subexpressions(s) if is_variable(x)}\n",
    "\n",
    "def is_variable(x):\n",
    "    \"\"\"변수: args가 없고 op가 소문자 기호로 구성된 Expr\"\"\"\n",
    "    return isinstance(x, Expr) and not x.args and x.op[0].islower()\n",
    "\n",
    "def constant_symbols(x):\n",
    "    \"\"\"x에 존재하는 모든 상수 기호의 집합을 리턴\"\"\"\n",
    "    if not isinstance(x, Expr):\n",
    "        return set()\n",
    "    elif is_prop_symbol(x.op) and not x.args:\n",
    "        return {x}\n",
    "    else:\n",
    "        return {symbol for arg in x.args for symbol in constant_symbols(arg)}\n",
    "\n",
    "def predicate_symbols(x):\n",
    "    \"\"\"x에 존재하는 (기호명, 인자수)의 집합을 리턴함.\n",
    "    인자의 개수가 >0인 모든 기호(함수 포함)를 고려함.\"\"\"\n",
    "    if not isinstance(x, Expr) or not x.args:\n",
    "        return set()\n",
    "    pred_set = {(x.op, len(x.args))} if is_prop_symbol(x.op) else set()\n",
    "    pred_set.update({symbol for arg in x.args for symbol in predicate_symbols(arg)})\n",
    "    return pred_set"
   ]
  },
  {
   "cell_type": "markdown",
   "id": "c973e691",
   "metadata": {},
   "source": [
    "# 논리 문장 표현하기\n",
    "`Expr`을 통해 논리 문장을 표현하려면, 사용할 기호를 사용 전에 미리 정의해줘야 함. `expr` 함수를 사용하면 미리 기호를 정의하지 않아도 됨."
   ]
  },
  {
   "cell_type": "code",
   "execution_count": null,
   "id": "59c7b02a",
   "metadata": {},
   "outputs": [],
   "source": [
    "# 기호 정의\n",
    "Symbol('x')"
   ]
  },
  {
   "cell_type": "code",
   "execution_count": null,
   "id": "9c4392e9",
   "metadata": {},
   "outputs": [],
   "source": [
    "# 여러 기호를 한꺼번에 정의\n",
    "symbols('x, y, P, Q, f')"
   ]
  },
  {
   "cell_type": "code",
   "execution_count": null,
   "id": "e323cfe4",
   "metadata": {},
   "outputs": [],
   "source": [
    "(x, y, P, Q, f) = symbols('x, y, P, Q, f')"
   ]
  },
  {
   "cell_type": "code",
   "execution_count": null,
   "id": "325e26b6",
   "metadata": {},
   "outputs": [],
   "source": [
    "# Expr과 파이썬 연산자를 같이 사용할 수 있음\n",
    "# 논리 문장: P ^ ~Q\n",
    "P & ~Q"
   ]
  },
  {
   "cell_type": "markdown",
   "id": "06aa9273",
   "metadata": {},
   "source": [
    "`Expr`에는 연산자를 표현하는 문자열 `op`와 인자(arguments)를 표현하는 `args`로 구성됨. args는 0개 이상의 식(기호, 숫자, 중첩된 Expr 등)으로 구성된 튜플."
   ]
  },
  {
   "cell_type": "code",
   "execution_count": null,
   "id": "e1ce4683",
   "metadata": {},
   "outputs": [],
   "source": [
    "sentence = P & ~Q\n",
    "print(sentence.op, sentence.args, sep='\\t')"
   ]
  },
  {
   "cell_type": "code",
   "execution_count": null,
   "id": "55aaf719",
   "metadata": {},
   "outputs": [],
   "source": [
    "print(P.op, P.args, sep='\\t')"
   ]
  },
  {
   "cell_type": "code",
   "execution_count": null,
   "id": "2cc8c03f",
   "metadata": {},
   "outputs": [],
   "source": [
    "Pxy = P(x, y)\n",
    "print(Pxy.op, Pxy.args, sep='\\t')"
   ]
  },
  {
   "cell_type": "markdown",
   "id": "18051f72",
   "metadata": {},
   "source": [
    "조건문을 만들기 위해서 '==>'을 연산자로 사용할 수 없어 |'==>'|을 사용함. 또는 Expr 생성자를 사용함.\n",
    "\n",
    "|연산자|교재표현|파이썬 연산자 입력|파이썬 출력|파이썬 Expr 입력|\n",
    "|:-----|:-------|:-----------------|:----------|:---------------|\n",
    "|부정|¬ P|~P|~P|Expr('~', P)|\n",
    "|And|P ∧ Q|P & Q|P & Q|Expr('&', P, Q)|\n",
    "|Or|P ∨ Q|P \\| Q|P \\| Q|Expr('\\|', P, Q)|\n",
    "|Inequality (Xor)|P ≠ Q|P ^ Q|P ^ Q|Expr('^', P, Q)|\n",
    "|Implication(조건)|P → Q|P \\|'==>'\\| Q|P ==> Q|Expr('==>', P, Q)|\n",
    "|Reverse Implication|Q ← P|Q \\|'<=='\\| P|Q <== P|Expr('<==', Q, P)|\n",
    "|Equivalence(동치; 쌍조건)|P ↔ Q|P \\|'<=>'\\| Q|P <=> Q|Expr('<=>', P, Q)|"
   ]
  },
  {
   "cell_type": "code",
   "execution_count": null,
   "id": "1ef51cdc",
   "metadata": {},
   "outputs": [],
   "source": [
    "~(P & Q) |'==>'| (~P | ~Q)"
   ]
  },
  {
   "cell_type": "markdown",
   "id": "73924cdd",
   "metadata": {},
   "source": [
    "`expr` 함수를 사용하면 논리 문장을 간편하게 생성할 수 있음. 입력된 문자열을 파싱하여 `Expr` 생성. 문자열에 포함된 기호들을 자동으로 기호로 정의하므로 미리 기호를 정의할 필요 없음. `expr` 함수 사용 권장."
   ]
  },
  {
   "cell_type": "code",
   "execution_count": null,
   "id": "735964d5",
   "metadata": {},
   "outputs": [],
   "source": [
    "expr('~(P & Q) ==> (~P | ~Q)')"
   ]
  },
  {
   "cell_type": "code",
   "execution_count": null,
   "id": "9f78191c",
   "metadata": {},
   "outputs": [],
   "source": [
    "e = expr('King(x) & Greedy(x) ==> Evil(x)')\n",
    "e"
   ]
  },
  {
   "cell_type": "code",
   "execution_count": null,
   "id": "65f85800",
   "metadata": {},
   "outputs": [],
   "source": [
    "# 문장에 사용된 변수 집합\n",
    "variables(e)"
   ]
  },
  {
   "cell_type": "code",
   "execution_count": null,
   "id": "c4e19634",
   "metadata": {},
   "outputs": [],
   "source": [
    "# 상수 기호 집합\n",
    "constant_symbols(e)"
   ]
  },
  {
   "cell_type": "code",
   "execution_count": null,
   "id": "c5d3fc63",
   "metadata": {},
   "outputs": [],
   "source": [
    "# 인자가 존재하는 기호들의 집합. (기호, 인자 개수)의 집합이 리턴됨.\n",
    "predicate_symbols(e)"
   ]
  },
  {
   "cell_type": "markdown",
   "id": "a9c7a9ae",
   "metadata": {},
   "source": [
    "# 대입 및 단일화\n",
    "대입은 변수:값 형식의 사전구조로 구현됨. (예: {x:1, y:x})"
   ]
  },
  {
   "cell_type": "code",
   "execution_count": null,
   "id": "07477d04",
   "metadata": {},
   "outputs": [],
   "source": [
    "def subst(s, x):\n",
    "    \"\"\"x에 대입 s를 적용함.\n",
    "    >>> subst({x: 42, y:0}, F(x) + y)\n",
    "    (F(42) + 0)\n",
    "    \"\"\"\n",
    "    if isinstance(x, list):\n",
    "        return [subst(s, xi) for xi in x]\n",
    "    elif isinstance(x, tuple):\n",
    "        return tuple([subst(s, xi) for xi in x])\n",
    "    elif not isinstance(x, Expr):\n",
    "        return x\n",
    "    elif is_var_symbol(x.op):\n",
    "        return s.get(x, x)\n",
    "    else:\n",
    "        return Expr(x.op, *[subst(s, arg) for arg in x.args])"
   ]
  },
  {
   "cell_type": "code",
   "execution_count": null,
   "id": "72326bb0",
   "metadata": {},
   "outputs": [],
   "source": [
    "subst({x: expr('Nono'), y: expr('M1')}, expr('Owns(x, y)'))"
   ]
  },
  {
   "cell_type": "code",
   "execution_count": null,
   "id": "df3d98d4",
   "metadata": {},
   "outputs": [],
   "source": [
    "def unify(x, y, s={}):\n",
    "    \"\"\"x, y를 동일하게 만드는 대입(동일자; unifier)을 찾아 리턴. 동일하게 만드는 대입이 없으면 None 리턴.\n",
    "    x, y는 변수(예: Expr('x')), 상수, 리스트, Expr들이 가능함.\n",
    "    >>> unify(x, 3, {})\n",
    "    {x: 3}\n",
    "    \"\"\"\n",
    "    if s is None:\n",
    "        return None\n",
    "    elif x == y:\n",
    "        return s\n",
    "    elif is_variable(x):\n",
    "        return unify_var(x, y, s)\n",
    "    elif is_variable(y):\n",
    "        return unify_var(y, x, s)\n",
    "    elif isinstance(x, Expr) and isinstance(y, Expr):\n",
    "        return unify(x.args, y.args, unify(x.op, y.op, s))\n",
    "    elif isinstance(x, str) or isinstance(y, str):\n",
    "        return None\n",
    "    elif issequence(x) and issequence(y) and len(x) == len(y):\n",
    "        if not x:\n",
    "            return s\n",
    "        return unify(x[1:], y[1:], unify(x[0], y[0], s))\n",
    "    else:\n",
    "        return None\n",
    "\n",
    "def unify_var(var, x, s):\n",
    "    if var in s:\n",
    "        return unify(s[var], x, s)\n",
    "    elif x in s:\n",
    "        return unify(var, s[x], s)\n",
    "    elif occur_check(var, x, s):\n",
    "        return None\n",
    "    else:\n",
    "        new_s = extend(s, var, x)\n",
    "        cascade_substitution(new_s)\n",
    "        return new_s\n",
    "\n",
    "def occur_check(var, x, s):\n",
    "    \"\"\"x(또는 x에 대입 s를 적용한 결과)에 var가 존재하면 true를 리턴함.\"\"\"\n",
    "    if var == x:\n",
    "        return True\n",
    "    elif is_variable(x) and x in s:\n",
    "        return occur_check(var, s[x], s)\n",
    "    elif isinstance(x, Expr):\n",
    "        return (occur_check(var, x.op, s) or\n",
    "                occur_check(var, x.args, s))\n",
    "    elif isinstance(x, (list, tuple)):\n",
    "        return first(e for e in x if occur_check(var, e, s))\n",
    "    else:\n",
    "        return False\n",
    "    \n",
    "def cascade_substitution(s):\n",
    "    \"\"\"정규형에서도 올바른 단일자(unifier)를 리턴하도록 하기 위해 s에 연쇄적인 대입을 수행함.\n",
    "    >>> s = {x: y, y: G(z)}\n",
    "    >>> cascade_substitution(s)\n",
    "    >>> s == {x: G(z), y: G(z)}\n",
    "    True\n",
    "    \"\"\"\n",
    "    for x in s:\n",
    "        s[x] = subst(s, s.get(x))\n",
    "        if isinstance(s.get(x), Expr) and not is_variable(s.get(x)):\n",
    "            # 함수 항이 올바르게 업데이트되도록 다시 패싱함.\n",
    "            s[x] = subst(s, s.get(x))\n",
    "            \n",
    "def extend(s, var, val):\n",
    "    \"\"\"dict s를 복사하고 var의 값을 val로 세팅하여 확장한 후 리턴\"\"\"\n",
    "    try:  # Python 3.5 and later\n",
    "        return eval('{**s, var: val}')\n",
    "    except SyntaxError:  # Python 3.4\n",
    "        s2 = s.copy()\n",
    "        s2[var] = val\n",
    "        return s2\n",
    "    \n",
    "def issequence(x):\n",
    "    \"\"\"x가 시퀀스인가?\"\"\"\n",
    "    return isinstance(x, collections.abc.Sequence)\n",
    "\n",
    "def first(iterable, default=None):\n",
    "    \"\"\"첫번째 원소 리턴\"\"\"\n",
    "    return next(iter(iterable), default)"
   ]
  },
  {
   "cell_type": "code",
   "execution_count": null,
   "id": "73da10c1",
   "metadata": {},
   "outputs": [],
   "source": [
    "unify(expr('x'), 3)"
   ]
  },
  {
   "cell_type": "code",
   "execution_count": null,
   "id": "7dfc1364",
   "metadata": {},
   "outputs": [],
   "source": [
    "unify(expr('A(x)'), expr('A(B)'))"
   ]
  },
  {
   "cell_type": "code",
   "execution_count": null,
   "id": "58a71741",
   "metadata": {},
   "outputs": [],
   "source": [
    "unify(expr('Cat(x) & Dog(Dobby)'), expr('Cat(Bella) & Dog(y)'))"
   ]
  },
  {
   "cell_type": "code",
   "execution_count": null,
   "id": "f04ae936",
   "metadata": {},
   "outputs": [],
   "source": [
    "print(unify(expr('Cat(x)'), expr('Dog(Dobby)')))"
   ]
  },
  {
   "cell_type": "code",
   "execution_count": null,
   "id": "ea786c21",
   "metadata": {},
   "outputs": [],
   "source": [
    "print(unify(expr('Knows(John, x)'), expr('Knows(x, Elizabeth)')))"
   ]
  },
  {
   "cell_type": "code",
   "execution_count": null,
   "id": "184b0da1",
   "metadata": {},
   "outputs": [],
   "source": [
    "print(unify(expr('Knows(John, x)'), expr('Knows(x2, Elizabeth)')))"
   ]
  },
  {
   "cell_type": "code",
   "execution_count": null,
   "id": "ac9e394e",
   "metadata": {},
   "outputs": [],
   "source": []
  }
 ],
 "metadata": {
  "kernelspec": {
   "display_name": "Python 3 (ipykernel)",
   "language": "python",
   "name": "python3"
  },
  "language_info": {
   "codemirror_mode": {
    "name": "ipython",
    "version": 3
   },
   "file_extension": ".py",
   "mimetype": "text/x-python",
   "name": "python",
   "nbconvert_exporter": "python",
   "pygments_lexer": "ipython3",
   "version": "3.9.16"
  }
 },
 "nbformat": 4,
 "nbformat_minor": 5
}
